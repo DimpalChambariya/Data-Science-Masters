{
 "cells": [
  {
   "cell_type": "markdown",
   "id": "ecab091a",
   "metadata": {},
   "source": [
    "## 3rd Feb Assignment (Functions)"
   ]
  },
  {
   "cell_type": "markdown",
   "id": "b50bd8ba",
   "metadata": {},
   "source": [
    "### Q1. Which keyword is used to create a function? Create a function to return a list of odd numbers in the range of 1 to 25."
   ]
  },
  {
   "cell_type": "markdown",
   "id": "5d761b43",
   "metadata": {},
   "source": [
    "def keyword is used to create a function.\n",
    "The syntax of creating function is def function_name(parameters):"
   ]
  },
  {
   "cell_type": "code",
   "execution_count": 11,
   "id": "86461517",
   "metadata": {},
   "outputs": [],
   "source": [
    "def odd():\n",
    "    l=[]\n",
    "    for i in range(1,26):\n",
    "        if i%2 != 0:\n",
    "            l.append(i)\n",
    "    return l        "
   ]
  },
  {
   "cell_type": "code",
   "execution_count": 12,
   "id": "f9ab9d49",
   "metadata": {},
   "outputs": [
    {
     "data": {
      "text/plain": [
       "[1, 3, 5, 7, 9, 11, 13, 15, 17, 19, 21, 23, 25]"
      ]
     },
     "execution_count": 12,
     "metadata": {},
     "output_type": "execute_result"
    }
   ],
   "source": [
    "odd()"
   ]
  },
  {
   "cell_type": "markdown",
   "id": "ac3e780e",
   "metadata": {},
   "source": [
    "### Q2. Why *args and **kwargs is used in some functions? Create a function each for *args and **kwargs to  demonstrate their use."
   ]
  },
  {
   "cell_type": "markdown",
   "id": "02b1ced0",
   "metadata": {},
   "source": [
    "*args is used for to take an any number of arguments and any type of arguments.\n",
    "\n",
    "**kwargs is uded for an any number of arguments in key value pair"
   ]
  },
  {
   "cell_type": "code",
   "execution_count": 22,
   "id": "2bbe6a07",
   "metadata": {},
   "outputs": [],
   "source": [
    "def test(*args):\n",
    "    return args"
   ]
  },
  {
   "cell_type": "code",
   "execution_count": 23,
   "id": "79e611e9",
   "metadata": {},
   "outputs": [
    {
     "data": {
      "text/plain": [
       "(1, 2)"
      ]
     },
     "execution_count": 23,
     "metadata": {},
     "output_type": "execute_result"
    }
   ],
   "source": [
    "test(1,2)"
   ]
  },
  {
   "cell_type": "code",
   "execution_count": 20,
   "id": "f32d4189",
   "metadata": {},
   "outputs": [
    {
     "data": {
      "text/plain": [
       "(1, 2, 3, 4)"
      ]
     },
     "execution_count": 20,
     "metadata": {},
     "output_type": "execute_result"
    }
   ],
   "source": [
    "test(1,2,3,4)"
   ]
  },
  {
   "cell_type": "code",
   "execution_count": 21,
   "id": "0c9ff55d",
   "metadata": {},
   "outputs": [
    {
     "data": {
      "text/plain": [
       "(1, 2, 3)"
      ]
     },
     "execution_count": 21,
     "metadata": {},
     "output_type": "execute_result"
    }
   ],
   "source": [
    "test(1,2,3)"
   ]
  },
  {
   "cell_type": "code",
   "execution_count": 25,
   "id": "3d31cf66",
   "metadata": {},
   "outputs": [],
   "source": [
    "def test1(**kwargs):\n",
    "    return kwargs"
   ]
  },
  {
   "cell_type": "code",
   "execution_count": 26,
   "id": "3c79be29",
   "metadata": {},
   "outputs": [
    {
     "data": {
      "text/plain": [
       "{'a': 34, 'b': 65, 'c': 76, 'd': 'dimpal'}"
      ]
     },
     "execution_count": 26,
     "metadata": {},
     "output_type": "execute_result"
    }
   ],
   "source": [
    "test1(a=34,b=65,c=76,d=\"dimpal\")"
   ]
  },
  {
   "cell_type": "code",
   "execution_count": 27,
   "id": "3534e92a",
   "metadata": {},
   "outputs": [
    {
     "data": {
      "text/plain": [
       "{'a': 87, 'b': 'dim'}"
      ]
     },
     "execution_count": 27,
     "metadata": {},
     "output_type": "execute_result"
    }
   ],
   "source": [
    "test1(a=87,b=\"dim\")"
   ]
  },
  {
   "cell_type": "markdown",
   "id": "c6c51503",
   "metadata": {},
   "source": [
    "### Q3.  What is an iterator in python? Name the method used to initialise the iterator object and the method used for iteration. Use these methods to print the first five elements of the given list [2, 4, 6, 8, 10, 12, 14, 16, 18, 20]."
   ]
  },
  {
   "cell_type": "markdown",
   "id": "3830dd04",
   "metadata": {},
   "source": [
    "An iterator is an object that allows you to traverse through elements in a sequence, such as a list, tuple, or string. To initialize an iterator object, you can use the iter() function. The next() method is used for iteration with iterators. It returns the next element in the sequence pointed by the iterator."
   ]
  },
  {
   "cell_type": "code",
   "execution_count": 31,
   "id": "29a05c34",
   "metadata": {},
   "outputs": [
    {
     "name": "stdout",
     "output_type": "stream",
     "text": [
      "2\n",
      "4\n",
      "6\n",
      "8\n",
      "10\n"
     ]
    }
   ],
   "source": [
    "list1=[2, 4, 6, 8, 10, 12, 14, 16, 18, 20]\n",
    "iterator=iter(list1)\n",
    "for i in range(5):\n",
    "    element=next(iterator)\n",
    "    print(element)"
   ]
  },
  {
   "cell_type": "markdown",
   "id": "92858929",
   "metadata": {},
   "source": [
    "### Q4.  What is a generator function in python? Why yield keyword is used? Give an example of a generator  function."
   ]
  },
  {
   "cell_type": "markdown",
   "id": "9a335d3f",
   "metadata": {},
   "source": [
    "A generator function is a special type of function that generates a sequence of values using the yield keyword instead of return. The yield keyword is used to define the points at which the generator function should yield a value. It allows the generator function to produce a value and temporarily suspend its execution."
   ]
  },
  {
   "cell_type": "code",
   "execution_count": 35,
   "id": "dc3129f5",
   "metadata": {},
   "outputs": [],
   "source": [
    "def test():\n",
    "    for i in range(10):\n",
    "        if i % 2 == 0:\n",
    "            yield i"
   ]
  },
  {
   "cell_type": "code",
   "execution_count": 36,
   "id": "85dd23c3",
   "metadata": {},
   "outputs": [
    {
     "data": {
      "text/plain": [
       "<generator object test at 0x0000019E2850F5A0>"
      ]
     },
     "execution_count": 36,
     "metadata": {},
     "output_type": "execute_result"
    }
   ],
   "source": [
    "test()"
   ]
  },
  {
   "cell_type": "code",
   "execution_count": 37,
   "id": "056a5322",
   "metadata": {},
   "outputs": [
    {
     "name": "stdout",
     "output_type": "stream",
     "text": [
      "0\n",
      "2\n",
      "4\n",
      "6\n",
      "8\n"
     ]
    }
   ],
   "source": [
    "for i in test():\n",
    "    print(i)"
   ]
  },
  {
   "cell_type": "markdown",
   "id": "47334edc",
   "metadata": {},
   "source": [
    "### Q5. Create a generator function for prime numbers less than 1000. Use the next() method to print the first 20 prime numbers"
   ]
  },
  {
   "cell_type": "code",
   "execution_count": 48,
   "id": "0be8f72c",
   "metadata": {},
   "outputs": [],
   "source": [
    "def prime():\n",
    "    l=[]\n",
    "    for num in range(2,1000):\n",
    "        is_prime=True\n",
    "        for divisor in l:\n",
    "            if num % divisor == 0:\n",
    "                is_prime=False\n",
    "                break\n",
    "        if is_prime:\n",
    "            l.append(num)\n",
    "            yield num\n",
    "generator=prime()"
   ]
  },
  {
   "cell_type": "code",
   "execution_count": 49,
   "id": "afd9ca87",
   "metadata": {},
   "outputs": [
    {
     "name": "stdout",
     "output_type": "stream",
     "text": [
      "2\n",
      "3\n",
      "5\n",
      "7\n",
      "11\n",
      "13\n",
      "17\n",
      "19\n",
      "23\n",
      "29\n",
      "31\n",
      "37\n",
      "41\n",
      "43\n",
      "47\n",
      "53\n",
      "59\n",
      "61\n",
      "67\n",
      "71\n"
     ]
    }
   ],
   "source": [
    "for i in range(20):\n",
    "    prime_num=next(generator)\n",
    "    print(prime_num)"
   ]
  },
  {
   "cell_type": "code",
   "execution_count": null,
   "id": "146facce",
   "metadata": {},
   "outputs": [],
   "source": []
  }
 ],
 "metadata": {
  "kernelspec": {
   "display_name": "Python 3 (ipykernel)",
   "language": "python",
   "name": "python3"
  },
  "language_info": {
   "codemirror_mode": {
    "name": "ipython",
    "version": 3
   },
   "file_extension": ".py",
   "mimetype": "text/x-python",
   "name": "python",
   "nbconvert_exporter": "python",
   "pygments_lexer": "ipython3",
   "version": "3.10.9"
  }
 },
 "nbformat": 4,
 "nbformat_minor": 5
}
