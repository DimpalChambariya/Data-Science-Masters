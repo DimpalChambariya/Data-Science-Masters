{
 "cells": [
  {
   "cell_type": "markdown",
   "id": "933d9897",
   "metadata": {},
   "source": [
    "## 30th JAN_Assignment  ( Assignment 2)"
   ]
  },
  {
   "cell_type": "markdown",
   "id": "a85af5bc",
   "metadata": {},
   "source": [
    "1. Write a program to accept percentage from the user and display the grade according to the following \n",
    "criteria: \n",
    "Marks \n",
    "Grade \n",
    ">90 \n",
    "A \n",
    ">80 and <=90 \n",
    "B\n",
    ">=60 and <=80 \n",
    "C \n",
    "below 60 \n",
    "D "
   ]
  },
  {
   "cell_type": "code",
   "execution_count": 1,
   "id": "c4264913",
   "metadata": {},
   "outputs": [
    {
     "name": "stdout",
     "output_type": "stream",
     "text": [
      "Enter your percentage::76.90\n",
      "Grade C\n"
     ]
    }
   ],
   "source": [
    "grade=float(input(\"Enter your percentage::\"))\n",
    "if grade>90:\n",
    "    print(\"Grade A\")\n",
    "elif 80<grade<=90:\n",
    "    print(\"Grade B\")\n",
    "elif 60<=grade<=80:\n",
    "    print(\"Grade C\")\n",
    "elif grade<60:\n",
    "    print(\"Grade D\")\n",
    "else:\n",
    "    print(\"Enter appropriate percentage\")"
   ]
  },
  {
   "cell_type": "markdown",
   "id": "3d363f06",
   "metadata": {},
   "source": [
    "Q-2) Write a program to accept the cost price of a bike and display the road tax to be paid according to the \n",
    "following criteria: \n",
    "Tax 15% 10% 5% \n",
    "Cost Price(in Rs) >100000       50000 and <= 100000         <= 50000 \n"
   ]
  },
  {
   "cell_type": "code",
   "execution_count": 3,
   "id": "5a478bb3",
   "metadata": {},
   "outputs": [
    {
     "name": "stdout",
     "output_type": "stream",
     "text": [
      "Enter the cost of bike::679888\n",
      "15% road tax you need to pay.\n"
     ]
    }
   ],
   "source": [
    "cost=int(input(\"Enter the cost of bike::\"))\n",
    "if cost<=50000:\n",
    "    print(\"{} road tax you need to pay.\".format(\"5%\"))\n",
    "elif 50000<cost<=100000:\n",
    "    print(\"{} road tax you need to pay.\".format(\"10%\"))\n",
    "elif cost>100000:\n",
    "    print(\"{} road tax you need to pay.\".format(\"15%\"))\n",
    "else:\n",
    "    print(\"Enter appropriate price of bike\")"
   ]
  },
  {
   "cell_type": "markdown",
   "id": "29002c78",
   "metadata": {},
   "source": [
    "Q-3) Accept any city from the user and display monuments of that city. \n",
    "City \n",
    "Delhi \n",
    "Monument \n",
    "Red Fort \n",
    "Taj Mahal \n",
    "Agra \n",
    "Jaipur \n",
    "Jal Mahal\n"
   ]
  },
  {
   "cell_type": "code",
   "execution_count": 6,
   "id": "ae681308",
   "metadata": {},
   "outputs": [
    {
     "name": "stdout",
     "output_type": "stream",
     "text": [
      "Enter cityDelhi\n",
      "Red Fort\n"
     ]
    }
   ],
   "source": [
    "city=str(input(\"Enter city\"))\n",
    "if city==\"Delhi\":\n",
    "    print(\"Red Fort\")\n",
    "elif city==\"Agra\":\n",
    "    print(\"Taj Mahal\")\n",
    "elif city==\"Jaipur\":\n",
    "    print(\"Jal Mahal\")\n",
    "else:\n",
    "    print(\"try with different city!!\")"
   ]
  },
  {
   "cell_type": "markdown",
   "id": "7321d5c9",
   "metadata": {},
   "source": [
    "Q-4) Check how many times a given number can be divided by 3 before it is less than or equal to 10."
   ]
  },
  {
   "cell_type": "code",
   "execution_count": 20,
   "id": "ff528282",
   "metadata": {},
   "outputs": [
    {
     "name": "stdout",
     "output_type": "stream",
     "text": [
      "Enter a number::60\n",
      "2\n"
     ]
    }
   ],
   "source": [
    "n=int(input(\"Enter a number::\"))\n",
    "count=0\n",
    "while n>10:\n",
    "    n=n/3\n",
    "    count=count+1\n",
    "print(count)"
   ]
  },
  {
   "cell_type": "markdown",
   "id": "68a64ba1",
   "metadata": {},
   "source": [
    "Q-5) Why and When to use while loop in python give a detailed description with example."
   ]
  },
  {
   "cell_type": "markdown",
   "id": "4f9ffb09",
   "metadata": {},
   "source": [
    "Python while loop is used to run a block code until a certain condition is met. Here, A while loop evaluates the condition. If the condition evaluates to True , the code inside the while loop is executed.\n",
    "For Example,\n",
    "print first five natural numbers."
   ]
  },
  {
   "cell_type": "code",
   "execution_count": 21,
   "id": "465f022f",
   "metadata": {},
   "outputs": [
    {
     "name": "stdout",
     "output_type": "stream",
     "text": [
      "1\n",
      "2\n",
      "3\n",
      "4\n",
      "5\n"
     ]
    }
   ],
   "source": [
    "n=1\n",
    "while n<6:\n",
    "    print(n)\n",
    "    n=n+1\n",
    "    "
   ]
  },
  {
   "cell_type": "markdown",
   "id": "f51a17aa",
   "metadata": {},
   "source": [
    "Q-6) Use nested while loop to print 3 different patterns."
   ]
  },
  {
   "cell_type": "code",
   "execution_count": 23,
   "id": "99800bc1",
   "metadata": {},
   "outputs": [
    {
     "name": "stdout",
     "output_type": "stream",
     "text": [
      "1\n",
      "12\n",
      "123\n",
      "1234\n",
      "12345\n"
     ]
    }
   ],
   "source": [
    "i=1\n",
    "while i<=5:\n",
    "    j=1\n",
    "    while j<=i:\n",
    "        print(j,end=\"\")\n",
    "        j=j+1\n",
    "    print(\"\")\n",
    "    i=i+1\n",
    "    \n",
    "    "
   ]
  },
  {
   "cell_type": "code",
   "execution_count": 24,
   "id": "a5fa0b8a",
   "metadata": {},
   "outputs": [
    {
     "name": "stdout",
     "output_type": "stream",
     "text": [
      "*\n",
      "**\n",
      "***\n",
      "****\n",
      "*****\n"
     ]
    }
   ],
   "source": [
    "i=1\n",
    "while i<=5:\n",
    "    j=1\n",
    "    while j<=i:\n",
    "        print(\"*\",end=\"\")\n",
    "        j=j+1\n",
    "    print(\"\")\n",
    "    i=i+1\n",
    "    "
   ]
  },
  {
   "cell_type": "code",
   "execution_count": 45,
   "id": "b9089360",
   "metadata": {},
   "outputs": [
    {
     "name": "stdout",
     "output_type": "stream",
     "text": [
      "11111\n",
      "2222\n",
      "333\n",
      "44\n",
      "5\n"
     ]
    }
   ],
   "source": [
    "i=1\n",
    "while i<=5:\n",
    "    j=5\n",
    "    while i<=j:\n",
    "        print(i,end=\"\")\n",
    "        j=j-1\n",
    "    print(\"\")\n",
    "    i=i+1"
   ]
  },
  {
   "cell_type": "code",
   "execution_count": 56,
   "id": "f4c4b4bc",
   "metadata": {},
   "outputs": [
    {
     "name": "stdout",
     "output_type": "stream",
     "text": [
      "54321\n",
      "5432\n",
      "543\n",
      "54\n",
      "5\n"
     ]
    }
   ],
   "source": [
    "i=1\n",
    "while i<=5:\n",
    "    j=5\n",
    "    while i<=j:\n",
    "        print(j,end=\"\")\n",
    "        j=j-1\n",
    "    print(\"\")\n",
    "    i=i+1\n",
    "    "
   ]
  },
  {
   "cell_type": "code",
   "execution_count": 57,
   "id": "72052505",
   "metadata": {},
   "outputs": [
    {
     "name": "stdout",
     "output_type": "stream",
     "text": [
      "12345\n",
      "1234\n",
      "123\n",
      "12\n",
      "1\n"
     ]
    }
   ],
   "source": [
    "i=5\n",
    "while i>=1:\n",
    "    j=1\n",
    "    while j<=i:\n",
    "        print(j,end=\"\")\n",
    "        j=j+1\n",
    "    print(\"\")\n",
    "    i=i-1"
   ]
  },
  {
   "cell_type": "markdown",
   "id": "b771adac",
   "metadata": {},
   "source": [
    "Q-7) Reverse a while loop to display numbers from 10 to 1."
   ]
  },
  {
   "cell_type": "code",
   "execution_count": 62,
   "id": "fda9c0c2",
   "metadata": {},
   "outputs": [
    {
     "name": "stdout",
     "output_type": "stream",
     "text": [
      "10\n",
      "9\n",
      "8\n",
      "7\n",
      "6\n",
      "5\n",
      "4\n",
      "3\n",
      "2\n",
      "1\n"
     ]
    }
   ],
   "source": [
    "i=10\n",
    "while i>=1:\n",
    "    print(i)\n",
    "    i=i-1"
   ]
  }
 ],
 "metadata": {
  "kernelspec": {
   "display_name": "Python 3 (ipykernel)",
   "language": "python",
   "name": "python3"
  },
  "language_info": {
   "codemirror_mode": {
    "name": "ipython",
    "version": 3
   },
   "file_extension": ".py",
   "mimetype": "text/x-python",
   "name": "python",
   "nbconvert_exporter": "python",
   "pygments_lexer": "ipython3",
   "version": "3.9.13"
  }
 },
 "nbformat": 4,
 "nbformat_minor": 5
}
