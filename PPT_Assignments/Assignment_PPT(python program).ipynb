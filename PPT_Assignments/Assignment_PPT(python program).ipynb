{
 "cells": [
  {
   "cell_type": "markdown",
   "id": "3060bd5c",
   "metadata": {},
   "source": [
    "# Assignment DataScience PPT program "
   ]
  },
  {
   "cell_type": "markdown",
   "id": "049bbdca",
   "metadata": {},
   "source": [
    "### 1. Write a Python program to reverse a string without using any built-in string reversal functions."
   ]
  },
  {
   "cell_type": "code",
   "execution_count": 1,
   "id": "eb3c20c1",
   "metadata": {},
   "outputs": [
    {
     "name": "stdout",
     "output_type": "stream",
     "text": [
      "lapmid\n"
     ]
    }
   ],
   "source": [
    "str=\"dimpal\"\n",
    "print(str[::-1])"
   ]
  },
  {
   "cell_type": "code",
   "execution_count": 2,
   "id": "127e1e74",
   "metadata": {},
   "outputs": [
    {
     "name": "stdout",
     "output_type": "stream",
     "text": [
      "lapmid\n"
     ]
    }
   ],
   "source": [
    "str=\"dimpal\"\n",
    "rev_str=\"\"\n",
    "for i in range(len(str)-1, -1, -1):\n",
    "    rev_str=rev_str + str[i]\n",
    "print(rev_str) "
   ]
  },
  {
   "cell_type": "markdown",
   "id": "97d92d50",
   "metadata": {},
   "source": [
    "### 2. Implement a function to check if a given string is a palindrome."
   ]
  },
  {
   "cell_type": "code",
   "execution_count": 3,
   "id": "f02f93fc",
   "metadata": {},
   "outputs": [
    {
     "name": "stdout",
     "output_type": "stream",
     "text": [
      "enter string::nayan\n",
      "String is palindrome\n"
     ]
    }
   ],
   "source": [
    "str=input(\"enter string::\")\n",
    "rev_str=str[::-1]\n",
    "if str == rev_str:\n",
    "    print(\"String is palindrome\")\n",
    "else:\n",
    "    print(\"String is not palindrome\")"
   ]
  },
  {
   "cell_type": "markdown",
   "id": "94ac3fc2",
   "metadata": {},
   "source": [
    "### 3. Write a program to find the largest element in a given list."
   ]
  },
  {
   "cell_type": "code",
   "execution_count": 9,
   "id": "ee63fb49",
   "metadata": {},
   "outputs": [
    {
     "name": "stdout",
     "output_type": "stream",
     "text": [
      "enter the elements::1 2 3 6 2 1 \n",
      "6\n"
     ]
    }
   ],
   "source": [
    "list1=list(map(int,input(\"enter the elements::\").split()))\n",
    "max=0\n",
    "\n",
    "for i in range(len(list1)):\n",
    "    if list1[i] >= max:\n",
    "        max=list1[i]\n",
    "print(max)"
   ]
  },
  {
   "cell_type": "markdown",
   "id": "6200f70a",
   "metadata": {},
   "source": [
    "### 4. Implement a function to count the occurrence of each element in a list."
   ]
  },
  {
   "cell_type": "code",
   "execution_count": 16,
   "id": "876a4cad",
   "metadata": {},
   "outputs": [
    {
     "name": "stdout",
     "output_type": "stream",
     "text": [
      "enter the elements::1 1 1 1 2 2 2 3 3 3 3 3 3 3 3 3 3 4 4 5 6 6 6 \n",
      "1 ---> 4\n",
      "2 ---> 3\n",
      "3 ---> 10\n",
      "4 ---> 2\n",
      "5 ---> 1\n",
      "6 ---> 3\n"
     ]
    }
   ],
   "source": [
    "list1=list(map(int,input(\"enter the elements::\").split()))\n",
    "occur={}\n",
    "def count_occurrence(list1):\n",
    "    for i in list1:\n",
    "        if i in occur:\n",
    "            occur[i] += 1\n",
    "        else:\n",
    "            occur[i]= 1\n",
    "    return occur\n",
    "occurrence= count_occurrence(list1)\n",
    "for i , count in occur.items():\n",
    "    print(i,\"--->\",count)"
   ]
  },
  {
   "cell_type": "markdown",
   "id": "6a36f5c6",
   "metadata": {},
   "source": [
    "### 5. Write a Python program to find the second largest number in a list."
   ]
  },
  {
   "cell_type": "code",
   "execution_count": 4,
   "id": "8159d21d",
   "metadata": {},
   "outputs": [
    {
     "name": "stdout",
     "output_type": "stream",
     "text": [
      "9\n"
     ]
    }
   ],
   "source": [
    "l = [2,3,4,5,5,4,3,1,2,8,32,9]\n",
    "l.sort()\n",
    "print(l[-2])"
   ]
  },
  {
   "cell_type": "markdown",
   "id": "8f7e672b",
   "metadata": {},
   "source": [
    "### 6. Implement a function to remove duplicate elements from a list."
   ]
  },
  {
   "cell_type": "code",
   "execution_count": 5,
   "id": "52bcc2b7",
   "metadata": {},
   "outputs": [
    {
     "name": "stdout",
     "output_type": "stream",
     "text": [
      "[1, 2, 3, 4, 5, 8, 9]\n"
     ]
    }
   ],
   "source": [
    "l = [2,3,4,5,5,4,3,1,2,8,9]\n",
    "print(list(set(l)))"
   ]
  },
  {
   "cell_type": "markdown",
   "id": "402efd02",
   "metadata": {},
   "source": [
    "### 7. Write a program to calculate the factorial of a given number."
   ]
  },
  {
   "cell_type": "code",
   "execution_count": 6,
   "id": "78234ec4",
   "metadata": {},
   "outputs": [
    {
     "data": {
      "text/plain": [
       "120"
      ]
     },
     "execution_count": 6,
     "metadata": {},
     "output_type": "execute_result"
    }
   ],
   "source": [
    "n = 5\n",
    "def factorial(n): #recursive function\n",
    "    if n == 1: # base case\n",
    "        return 1\n",
    "    else:\n",
    "        return n * factorial(n-1) \n",
    "factorial(n)"
   ]
  },
  {
   "cell_type": "markdown",
   "id": "303ece54",
   "metadata": {},
   "source": [
    "### 8. Implement a function to check if a given number is prime."
   ]
  },
  {
   "cell_type": "code",
   "execution_count": 7,
   "id": "bf53d890",
   "metadata": {},
   "outputs": [
    {
     "data": {
      "text/plain": [
       "True"
      ]
     },
     "execution_count": 7,
     "metadata": {},
     "output_type": "execute_result"
    }
   ],
   "source": [
    "n = 11\n",
    "def prime_num(n:int)->bool:\n",
    "    if n<2:\n",
    "        return False\n",
    "    flag = True\n",
    "    for i in range(2,n//2+1):\n",
    "        if n%i == 0:\n",
    "            return False\n",
    "    return True\n",
    "prime_num(n)"
   ]
  },
  {
   "cell_type": "markdown",
   "id": "d42021cd",
   "metadata": {},
   "source": [
    "### 9. Write a Python program to sort a list of integers in ascending order."
   ]
  },
  {
   "cell_type": "code",
   "execution_count": 11,
   "id": "6fa12bbb",
   "metadata": {},
   "outputs": [
    {
     "name": "stdout",
     "output_type": "stream",
     "text": [
      "[1, 2, 3, 5, 8, 9]\n"
     ]
    }
   ],
   "source": [
    "def sort_list(lst):\n",
    "    for i in range(len(lst)):\n",
    "        for j in range(i + 1, len(lst)):\n",
    "            if lst[i] > lst[j]:\n",
    "                lst[i], lst[j] = lst[j], lst[i]\n",
    "    return lst\n",
    "\n",
    "\n",
    "numbers = [5, 2, 8, 1, 9, 3]\n",
    "sorted_numbers = sort_list(numbers)\n",
    "print(sorted_numbers)\n"
   ]
  },
  {
   "cell_type": "markdown",
   "id": "cf1c8c0b",
   "metadata": {},
   "source": [
    "### 10. Implement a function to find the sum of all numbers in a list."
   ]
  },
  {
   "cell_type": "code",
   "execution_count": 12,
   "id": "91047e30",
   "metadata": {},
   "outputs": [
    {
     "data": {
      "text/plain": [
       "46"
      ]
     },
     "execution_count": 12,
     "metadata": {},
     "output_type": "execute_result"
    }
   ],
   "source": [
    "l = [2,3,4,5,5,4,3,1,2,8,9]\n",
    "def listSum(l:list[int]) -> int:\n",
    "\n",
    "    sum = 0\n",
    "    for i in l:\n",
    "        sum += i\n",
    "    return sum\n",
    "listSum(l)"
   ]
  },
  {
   "cell_type": "markdown",
   "id": "0e461d3c",
   "metadata": {},
   "source": [
    "### 11. Write a program to find the common elements between two lists."
   ]
  },
  {
   "cell_type": "code",
   "execution_count": 13,
   "id": "5408ed6e",
   "metadata": {},
   "outputs": [
    {
     "data": {
      "text/plain": [
       "[2, 3, 4, 5]"
      ]
     },
     "execution_count": 13,
     "metadata": {},
     "output_type": "execute_result"
    }
   ],
   "source": [
    "l1 = [2,3,4,5,8,9]\n",
    "l2 = [5,4,3,1,2]\n",
    "def commonElements(l1:list[int],l2:list[int])->list[int]:\n",
    "    return list(set(l1).intersection(set(l2)))\n",
    "commonElements(l1,l2)"
   ]
  },
  {
   "cell_type": "markdown",
   "id": "8068e921",
   "metadata": {},
   "source": [
    "### 12. Implement a function to check if a given string is an anagram of another string."
   ]
  },
  {
   "cell_type": "code",
   "execution_count": 14,
   "id": "cb214500",
   "metadata": {},
   "outputs": [
    {
     "data": {
      "text/plain": [
       "True"
      ]
     },
     "execution_count": 14,
     "metadata": {},
     "output_type": "execute_result"
    }
   ],
   "source": [
    "a = \"listen\"\n",
    "b = \"silent\"\n",
    "def isAnagram(a:str,b:str)->bool:\n",
    "    if sorted(a) == sorted(b):\n",
    "        return True\n",
    "    else:\n",
    "        return False\n",
    "isAnagram(a,b)"
   ]
  },
  {
   "cell_type": "markdown",
   "id": "e6dade3c",
   "metadata": {},
   "source": [
    "### 13. Write a Python program to generate all permutations of a given string."
   ]
  },
  {
   "cell_type": "code",
   "execution_count": 15,
   "id": "fb03703f",
   "metadata": {},
   "outputs": [
    {
     "name": "stdout",
     "output_type": "stream",
     "text": [
      "ABC\n",
      "ACB\n",
      "BAC\n",
      "BCA\n",
      "CAB\n",
      "CBA\n"
     ]
    }
   ],
   "source": [
    "def permutations(remaining, candidate=''):\n",
    " \n",
    "    if len(remaining) == 0:\n",
    "        print(candidate)\n",
    " \n",
    "    for i in range(len(remaining)):\n",
    " \n",
    "        newCandidate = candidate + remaining[i]\n",
    "        newRemaining = remaining[0:i] + remaining[i+1:]\n",
    " \n",
    "        permutations(newRemaining, newCandidate)\n",
    " \n",
    " \n",
    "if __name__ == '__main__':\n",
    " \n",
    "    s = 'ABC'\n",
    "    permutations(s)"
   ]
  },
  {
   "cell_type": "markdown",
   "id": "075e5193",
   "metadata": {},
   "source": [
    "### 14. Implement a function to calculate the Fibonacci sequence up to a given number of terms."
   ]
  },
  {
   "cell_type": "code",
   "execution_count": 17,
   "id": "43b4aba1",
   "metadata": {},
   "outputs": [
    {
     "name": "stdout",
     "output_type": "stream",
     "text": [
      "0\n",
      "1\n",
      "1\n",
      "2\n",
      "3\n",
      "5\n",
      "8\n",
      "13\n",
      "21\n",
      "34\n",
      "55\n"
     ]
    }
   ],
   "source": [
    "n = 10\n",
    "def fibonacci(n:int)->None:\n",
    "    i=0\n",
    "    a=0\n",
    "    b=1\n",
    "    sum = 0\n",
    "    while i<=n:\n",
    "        print(a)\n",
    "        sum = a+b\n",
    "        a,b = b,sum\n",
    "        i+=1\n",
    "fibonacci(n)\n",
    "    "
   ]
  },
  {
   "cell_type": "code",
   "execution_count": 18,
   "id": "484f3292",
   "metadata": {},
   "outputs": [
    {
     "name": "stdout",
     "output_type": "stream",
     "text": [
      "55\n"
     ]
    }
   ],
   "source": [
    "# Recursive approach\n",
    "def fibonacci(n:int)->int:\n",
    "    if n<0:\n",
    "        print(\"Incorrect input\") \n",
    "    elif n==0:\n",
    "        return 0\n",
    "    elif n==1 or n==2:\n",
    "        return 1\n",
    "    else:\n",
    "        return fibonacci(n-1) + fibonacci(n-2)\n",
    "print(fibonacci(10))"
   ]
  },
  {
   "cell_type": "markdown",
   "id": "780f212a",
   "metadata": {},
   "source": [
    "### 15. Write a program to find the median of a list of numbers."
   ]
  },
  {
   "cell_type": "code",
   "execution_count": 19,
   "id": "e883a3fa",
   "metadata": {},
   "outputs": [
    {
     "data": {
      "text/plain": [
       "4.5"
      ]
     },
     "execution_count": 19,
     "metadata": {},
     "output_type": "execute_result"
    }
   ],
   "source": [
    "l = [1,2,3,4,5,6,8,9]\n",
    "def medianFinder(l:list[int])->float:\n",
    "    if len(l)%2!=0:\n",
    "        return l[len(l)//2]\n",
    "    else:\n",
    "        mid = int(len(l)/2)\n",
    "        median = (l[mid-1] + l[mid])/ 2\n",
    "        return median\n",
    "medianFinder(l)"
   ]
  },
  {
   "cell_type": "markdown",
   "id": "4dc7a3de",
   "metadata": {},
   "source": [
    "### 16. Implement a function to check if a given list is sorted in non-decreasing order."
   ]
  },
  {
   "cell_type": "code",
   "execution_count": 21,
   "id": "c450621b",
   "metadata": {},
   "outputs": [
    {
     "data": {
      "text/plain": [
       "False"
      ]
     },
     "execution_count": 21,
     "metadata": {},
     "output_type": "execute_result"
    }
   ],
   "source": [
    "l = [1,2,4,3,4,5,6,8,9]\n",
    "def sortChecker(l:list)->bool:\n",
    "    if l == sorted(l):\n",
    "        return True\n",
    "    return False\n",
    "sortChecker(l)"
   ]
  },
  {
   "cell_type": "markdown",
   "id": "38fe1533",
   "metadata": {},
   "source": [
    "### 17. Write a Python program to find the intersection of two lists."
   ]
  },
  {
   "cell_type": "code",
   "execution_count": 22,
   "id": "0f08050c",
   "metadata": {},
   "outputs": [
    {
     "data": {
      "text/plain": [
       "[2, 3, 6]"
      ]
     },
     "execution_count": 22,
     "metadata": {},
     "output_type": "execute_result"
    }
   ],
   "source": [
    "l1 = [1,2,3,4,5,6]\n",
    "l2 = [9,8,2,3,6,10]\n",
    "def commonElements(l1:list,l2:list)->list:\n",
    "    return list(set(l1).intersection(l2))\n",
    "commonElements(l1,l2)"
   ]
  },
  {
   "cell_type": "markdown",
   "id": "5cdc1da9",
   "metadata": {},
   "source": [
    "### 18. Implement a function to find the maximum subarray sum in a given list."
   ]
  },
  {
   "cell_type": "code",
   "execution_count": 23,
   "id": "2de5f54e",
   "metadata": {},
   "outputs": [
    {
     "data": {
      "text/plain": [
       "6"
      ]
     },
     "execution_count": 23,
     "metadata": {},
     "output_type": "execute_result"
    }
   ],
   "source": [
    "nums = [-2,1,-3,4,-1,2,1,-5,4]\n",
    "def maxSubarraySum(nums:list[int])->int:\n",
    "    sum = 0\n",
    "    maxtillend = 0\n",
    "    if len(nums) == 1:\n",
    "        return nums[0]\n",
    "    else:\n",
    "        for i in nums:\n",
    "            maxtillend += i\n",
    "            if sum < maxtillend:\n",
    "                sum = maxtillend\n",
    "            if maxtillend < 0:\n",
    "                maxtillend = 0\n",
    "        return sum\n",
    "maxSubarraySum(nums)"
   ]
  },
  {
   "cell_type": "markdown",
   "id": "b65705b2",
   "metadata": {},
   "source": [
    "### 19. Write a program to remove all vowels from a given string."
   ]
  },
  {
   "cell_type": "code",
   "execution_count": 24,
   "id": "739cbe46",
   "metadata": {},
   "outputs": [
    {
     "data": {
      "text/plain": [
       "'vwls'"
      ]
     },
     "execution_count": 24,
     "metadata": {},
     "output_type": "execute_result"
    }
   ],
   "source": [
    "s = \"vowels\"\n",
    "def removeVowels(s:str)->str:\n",
    "    \"\"\"removes all vowels from a string and returns it\n",
    "\n",
    "    Args:\n",
    "        s (str): string\n",
    "\n",
    "    Returns:\n",
    "        str: string with vowels removed\n",
    "    \"\"\"\n",
    "    l = []\n",
    "    for i in s:\n",
    "        if i not in \"aeiou\":\n",
    "            l.append(i)\n",
    "    return (\"\".join(l))\n",
    "removeVowels(s)\n",
    "    "
   ]
  },
  {
   "cell_type": "markdown",
   "id": "03b92ccb",
   "metadata": {},
   "source": [
    "### 20. Implement a function to reverse the order of words in a given sentence."
   ]
  },
  {
   "cell_type": "code",
   "execution_count": 25,
   "id": "a0a8df09",
   "metadata": {},
   "outputs": [
    {
     "data": {
      "text/plain": [
       "'Chambariya Dimpal is name My'"
      ]
     },
     "execution_count": 25,
     "metadata": {},
     "output_type": "execute_result"
    }
   ],
   "source": [
    "s=\"My name is Dimpal Chambariya\"\n",
    "def wordReversal(s:str)->str:\n",
    "\n",
    "    return (\" \".join(s.split()[::-1]))\n",
    "wordReversal(s)"
   ]
  },
  {
   "cell_type": "markdown",
   "id": "a63733b2",
   "metadata": {},
   "source": [
    "### 21. Write a Python program to check if two strings are anagrams of each other."
   ]
  },
  {
   "cell_type": "code",
   "execution_count": 26,
   "id": "833fe340",
   "metadata": {},
   "outputs": [
    {
     "data": {
      "text/plain": [
       "True"
      ]
     },
     "execution_count": 26,
     "metadata": {},
     "output_type": "execute_result"
    }
   ],
   "source": [
    "a = \"listen\"\n",
    "b = \"silent\"\n",
    "def isAnagram(a:str,b:str)->bool:\n",
    "    if sorted(a) == sorted(b):\n",
    "        return True\n",
    "    else:\n",
    "        return False\n",
    "isAnagram(a,b)"
   ]
  },
  {
   "cell_type": "markdown",
   "id": "d74b1d65",
   "metadata": {},
   "source": [
    "### 22. Implement a function to find the first non-repeating character in a string."
   ]
  },
  {
   "cell_type": "code",
   "execution_count": 27,
   "id": "8110f1f4",
   "metadata": {},
   "outputs": [
    {
     "data": {
      "text/plain": [
       "'z'"
      ]
     },
     "execution_count": 27,
     "metadata": {},
     "output_type": "execute_result"
    }
   ],
   "source": [
    "s = \"bzcbabc\"\n",
    "def nonRepeatingChar(s:str)->str:\n",
    "    d = dict()\n",
    "    for i in s:\n",
    "        d[i] = d.get(i,0) +1\n",
    "    return list(key for key , val in d.items() if val == 1)[0]\n",
    "nonRepeatingChar(s)"
   ]
  },
  {
   "cell_type": "markdown",
   "id": "b135ab94",
   "metadata": {},
   "source": [
    "### 23. Write a program to find the prime factors of a given number."
   ]
  },
  {
   "cell_type": "code",
   "execution_count": 30,
   "id": "094e1d75",
   "metadata": {},
   "outputs": [
    {
     "name": "stdout",
     "output_type": "stream",
     "text": [
      "3\n",
      "3\n",
      "5\n",
      "7\n"
     ]
    }
   ],
   "source": [
    "n=315\n",
    "def primeNumbers(n:int):\n",
    "    import math\n",
    "    while n%2==0:\n",
    "        n = n/2\n",
    "        print(2)\n",
    "        \n",
    "    for i in range(3,int(math.sqrt(n)),2):\n",
    "        while n%i==0:\n",
    "            n= n/i\n",
    "            print(i)\n",
    "    if n>2:\n",
    "        print(n)\n",
    "primeNumbers(n)\n",
    "        "
   ]
  },
  {
   "cell_type": "markdown",
   "id": "f43ee200",
   "metadata": {},
   "source": [
    "### 24. Implement a function to check if a given number is a power of two."
   ]
  },
  {
   "cell_type": "code",
   "execution_count": 32,
   "id": "6dcce7cf",
   "metadata": {},
   "outputs": [
    {
     "data": {
      "text/plain": [
       "True"
      ]
     },
     "execution_count": 32,
     "metadata": {},
     "output_type": "execute_result"
    }
   ],
   "source": [
    "n = 64\n",
    "def powerofTwo(n:int)->bool:\n",
    "    if n==1:\n",
    "        return True\n",
    "    elif n%2 !=0 or n==0:\n",
    "        return False\n",
    "    \n",
    "    return powerofTwo(n/2)\n",
    "powerofTwo(n)"
   ]
  },
  {
   "cell_type": "markdown",
   "id": "1f9409ca",
   "metadata": {},
   "source": [
    "### 25. Write a Python program to merge two sorted lists into a single sorted list."
   ]
  },
  {
   "cell_type": "code",
   "execution_count": 34,
   "id": "bce6a21e",
   "metadata": {},
   "outputs": [
    {
     "data": {
      "text/plain": [
       "[1, 2, 2, 3, 4, 5, 7, 8, 9]"
      ]
     },
     "execution_count": 34,
     "metadata": {},
     "output_type": "execute_result"
    }
   ],
   "source": [
    "l1 = [1,2,4,5,9]\n",
    "l2 = [2,3,7,8]\n",
    "def mergeSort(l1:list[int],l2:list[int])->list[int]:\n",
    "    l1.extend(l2)\n",
    "    return sorted(l1)\n",
    "mergeSort(l1,l2)"
   ]
  },
  {
   "cell_type": "markdown",
   "id": "199d28ce",
   "metadata": {},
   "source": [
    "### 26. Implement a function to find the mode of a list of numbers."
   ]
  },
  {
   "cell_type": "code",
   "execution_count": 35,
   "id": "2b264013",
   "metadata": {},
   "outputs": [
    {
     "data": {
      "text/plain": [
       "[5, 6]"
      ]
     },
     "execution_count": 35,
     "metadata": {},
     "output_type": "execute_result"
    }
   ],
   "source": [
    "l = [2,2,2,3,3,3,3,4,4,5,5,5,5,5,6,6,6,6,6]\n",
    "def modeFinder(l:list[int])->int:\n",
    "    d = dict()\n",
    "    for i in l:\n",
    "        d[i] = d.get(i, 0) + 1\n",
    "    m = max(d.values())\n",
    "    return [key for (key, value) in d.items() if value == m]\n",
    "modeFinder(l)"
   ]
  },
  {
   "cell_type": "markdown",
   "id": "40d22570",
   "metadata": {},
   "source": [
    "### 27. Write a program to find the greatest common divisor (GCD) of two numbers."
   ]
  },
  {
   "cell_type": "code",
   "execution_count": 36,
   "id": "da55feaa",
   "metadata": {},
   "outputs": [
    {
     "data": {
      "text/plain": [
       "6"
      ]
     },
     "execution_count": 36,
     "metadata": {},
     "output_type": "execute_result"
    }
   ],
   "source": [
    "#Euclidean algorithm for GCD using Recursion\n",
    "a = 48\n",
    "b = 18\n",
    "def gcd(a:int, b:int)->int:\n",
    "    if b==0:\n",
    "        return a\n",
    "    return gcd(b,a%b)\n",
    "\n",
    "gcd(a,b)"
   ]
  },
  {
   "cell_type": "markdown",
   "id": "c0c722a6",
   "metadata": {},
   "source": [
    "### 28. Implement a function to calculate the square root of a given number."
   ]
  },
  {
   "cell_type": "code",
   "execution_count": 37,
   "id": "78dd32c1",
   "metadata": {},
   "outputs": [
    {
     "data": {
      "text/plain": [
       "3.1622776601683795"
      ]
     },
     "execution_count": 37,
     "metadata": {},
     "output_type": "execute_result"
    }
   ],
   "source": [
    "x = 10\n",
    "def squareRoot(x:int)->float:\n",
    "    return x**0.5\n",
    "squareRoot(x)"
   ]
  },
  {
   "cell_type": "markdown",
   "id": "12108b94",
   "metadata": {},
   "source": [
    "### 29. Write a Python program to check if a given string is a valid palindrome ignoring non-alphanumeric characters."
   ]
  },
  {
   "cell_type": "code",
   "execution_count": 38,
   "id": "6aa06843",
   "metadata": {},
   "outputs": [
    {
     "data": {
      "text/plain": [
       "True"
      ]
     },
     "execution_count": 38,
     "metadata": {},
     "output_type": "execute_result"
    }
   ],
   "source": [
    "\n",
    "s = \"mala1alam#\"\n",
    "def isPalindrome(s:str)->bool:\n",
    "    ans=\"\"\n",
    "    for i in s:\n",
    "        \n",
    "        if i.isalpha() or i.isnumeric():\n",
    "            ans+=i\n",
    "    if ans == ans[::-1]:\n",
    "        return True\n",
    "    return False\n",
    "\n",
    "isPalindrome(s)"
   ]
  },
  {
   "cell_type": "markdown",
   "id": "5f642976",
   "metadata": {},
   "source": [
    "### 30. Implement a function to find the minimum element in a rotated sorted list."
   ]
  },
  {
   "cell_type": "code",
   "execution_count": 39,
   "id": "0c9754ec",
   "metadata": {},
   "outputs": [
    {
     "data": {
      "text/plain": [
       "1"
      ]
     },
     "execution_count": 39,
     "metadata": {},
     "output_type": "execute_result"
    }
   ],
   "source": [
    "arr = [5, 6, 1, 2, 3, 4]\n",
    "def minElement(arr:list[int])->int:\n",
    "    return min(arr)\n",
    "minElement(arr)\n"
   ]
  },
  {
   "cell_type": "code",
   "execution_count": 41,
   "id": "50803e51",
   "metadata": {},
   "outputs": [
    {
     "name": "stdout",
     "output_type": "stream",
     "text": [
      "1\n"
     ]
    }
   ],
   "source": [
    "numbers =  [5, 6, 1, 2, 3, 4]\n",
    "def find_minimum(nums):\n",
    "    left = 0\n",
    "    right = len(nums) - 1\n",
    "\n",
    "    while left < right:\n",
    "        mid = left + (right - left) // 2\n",
    "\n",
    "        if nums[mid] > nums[right]:\n",
    "            left = mid + 1\n",
    "            \n",
    "        elif nums[mid] < nums[right]:\n",
    "            right = mid\n",
    "\n",
    "        else:\n",
    "            right -= 1\n",
    "\n",
    "    return nums[left]\n",
    "\n",
    "\n",
    "minimum = find_minimum(numbers)\n",
    "print(minimum)"
   ]
  },
  {
   "cell_type": "markdown",
   "id": "5536f36c",
   "metadata": {},
   "source": [
    "### 31. Write a program to find the sum of all even numbers in a list."
   ]
  },
  {
   "cell_type": "code",
   "execution_count": 43,
   "id": "b88de625",
   "metadata": {},
   "outputs": [
    {
     "data": {
      "text/plain": [
       "110"
      ]
     },
     "execution_count": 43,
     "metadata": {},
     "output_type": "execute_result"
    }
   ],
   "source": [
    "l = [1,2,3,4,5,6,7,8,9,10,11,12,13,14,15,16,17,18,19,20]\n",
    "def evenSum(l: list[int])->int:\n",
    "    return sum([i for i in l if i%2==0])\n",
    "evenSum(l)"
   ]
  },
  {
   "cell_type": "markdown",
   "id": "ba869cc3",
   "metadata": {},
   "source": [
    "### 32. Implement a function to calculate the power of a number using recursion."
   ]
  },
  {
   "cell_type": "code",
   "execution_count": 45,
   "id": "5888f4d6",
   "metadata": {},
   "outputs": [
    {
     "data": {
      "text/plain": [
       "512"
      ]
     },
     "execution_count": 45,
     "metadata": {},
     "output_type": "execute_result"
    }
   ],
   "source": [
    "x , n = 2, 9 \n",
    "def powerof2(n:int,x:int)->int:\n",
    "    if n==0:\n",
    "        return 1\n",
    "    elif n==1:\n",
    "        return x\n",
    "    elif n<0:\n",
    "        n = -n\n",
    "        x = 1/x\n",
    "        return powerof2(n,x)\n",
    "    else:\n",
    "        d = powerof2(n//2,x)\n",
    "        ans = d * d\n",
    "        if n%2 != 0:\n",
    "            return x*ans\n",
    "        return ans\n",
    "\n",
    "powerof2(n,x)"
   ]
  },
  {
   "cell_type": "markdown",
   "id": "eb84114e",
   "metadata": {},
   "source": [
    "### 33. Write a Python program to remove duplicates from a list while preserving the order."
   ]
  },
  {
   "cell_type": "code",
   "execution_count": 47,
   "id": "3c701373",
   "metadata": {},
   "outputs": [
    {
     "data": {
      "text/plain": [
       "[1, 2, 3, 4, 6, 7, 8]"
      ]
     },
     "execution_count": 47,
     "metadata": {},
     "output_type": "execute_result"
    }
   ],
   "source": [
    "l = [1,1,1,1,2,2,3,4,4,3,3,3,6,6,6,7,8,6,4,4,6]\n",
    "def listDeduplication(l:list)->list:\n",
    "    ans = []\n",
    "    for i in l:\n",
    "        if i not in ans:\n",
    "            ans.append(i)\n",
    "    return ans\n",
    "listDeduplication(l)"
   ]
  },
  {
   "cell_type": "markdown",
   "id": "b4771680",
   "metadata": {},
   "source": [
    "### 34. Implement a function to find the longest common prefix among a list of strings."
   ]
  },
  {
   "cell_type": "code",
   "execution_count": 49,
   "id": "e9399482",
   "metadata": {},
   "outputs": [
    {
     "data": {
      "text/plain": [
       "'di'"
      ]
     },
     "execution_count": 49,
     "metadata": {},
     "output_type": "execute_result"
    }
   ],
   "source": [
    "\n",
    "a =['diiiimpal', 'diiim', 'dim', 'dimpal']\n",
    "def longestCommonPrefix(a:list[str])->str:\n",
    "    size = len(a)\n",
    "    if size==0:\n",
    "        return \"empty\"\n",
    "    if size==1:\n",
    "        return a[0]\n",
    "    \n",
    "    a.sort()\n",
    "    \n",
    "    i = 0\n",
    "    end = min(len(a[0]), len(a[size-1]))\n",
    "    while (i<end) and (a[0][i]==a[size-1][i]):\n",
    "        i+=1\n",
    "    \n",
    "    return a[0][:i]\n",
    "\n",
    "longestCommonPrefix(a)\n",
    "    "
   ]
  },
  {
   "cell_type": "markdown",
   "id": "fd26dafc",
   "metadata": {},
   "source": [
    "### 35. Write a program to check if a given number is a perfect square."
   ]
  },
  {
   "cell_type": "code",
   "execution_count": 51,
   "id": "d92671d3",
   "metadata": {},
   "outputs": [
    {
     "data": {
      "text/plain": [
       "True"
      ]
     },
     "execution_count": 51,
     "metadata": {},
     "output_type": "execute_result"
    }
   ],
   "source": [
    "n = 4\n",
    "def perfectSquare(n:int)->bool:\n",
    "    if n==0:\n",
    "        return False\n",
    "    elif n==1:\n",
    "        return True\n",
    "    for i in range(2,n//2+1):\n",
    "        if i*i == n:\n",
    "            return True\n",
    "    return False\n",
    "perfectSquare(n)\n",
    "        "
   ]
  },
  {
   "cell_type": "markdown",
   "id": "038420e7",
   "metadata": {},
   "source": [
    "### 36. Implement a function to calculate the product of all elements in a list."
   ]
  },
  {
   "cell_type": "code",
   "execution_count": 52,
   "id": "078d6fe1",
   "metadata": {},
   "outputs": [
    {
     "data": {
      "text/plain": [
       "88820161869808512"
      ]
     },
     "execution_count": 52,
     "metadata": {},
     "output_type": "execute_result"
    }
   ],
   "source": [
    "l = [2,23,44,1,23,67,72,286,269,5141]\n",
    "def listProduct(l:list[int or float])->int or float:\n",
    "    product = 1\n",
    "    for i in l:\n",
    "        product *= i\n",
    "    return product\n",
    "listProduct(l)"
   ]
  },
  {
   "cell_type": "markdown",
   "id": "9653028f",
   "metadata": {},
   "source": [
    "### 37. Write a Python program to reverse the order of words in a sentence while preserving the word order."
   ]
  },
  {
   "cell_type": "code",
   "execution_count": 53,
   "id": "4baaf282",
   "metadata": {},
   "outputs": [
    {
     "data": {
      "text/plain": [
       "'aidnI denrecnoc revo staerht ot sti slaiciffo ni adanaC daeha fo inatsilahK yllar'"
      ]
     },
     "execution_count": 53,
     "metadata": {},
     "output_type": "execute_result"
    }
   ],
   "source": [
    "s=\"India concerned over threats to its officials in Canada ahead of Khalistani rally\"\n",
    "def strWordReversal(s:str)->str:\n",
    "    l = s.split()\n",
    "    for i in range(len(l)):\n",
    "        l[i] = l[i][::-1]\n",
    "    return(\" \".join(l))\n",
    "strWordReversal(s)"
   ]
  },
  {
   "cell_type": "markdown",
   "id": "9af2cfa4",
   "metadata": {},
   "source": [
    "### 38. Implement a function to find the missing number in a given list of consecutive numbers."
   ]
  },
  {
   "cell_type": "code",
   "execution_count": 54,
   "id": "3a9189b7",
   "metadata": {},
   "outputs": [
    {
     "data": {
      "text/plain": [
       "-6"
      ]
     },
     "execution_count": 54,
     "metadata": {},
     "output_type": "execute_result"
    }
   ],
   "source": [
    "arr = [-9, -8, -7, -5, -4, -3, -2, -1, 0 ]\n",
    "\n",
    "def findMissing(arr:list[int])->int:\n",
    "    low = min(arr)\n",
    "    high = max(arr)\n",
    "    for i in range(low, high+1):\n",
    "        if i not in arr:\n",
    "            return i\n",
    "    return -1\n",
    "findMissing(arr)"
   ]
  },
  {
   "cell_type": "markdown",
   "id": "35418476",
   "metadata": {},
   "source": [
    "### 39. Write a program to find the sum of digits of a given number."
   ]
  },
  {
   "cell_type": "code",
   "execution_count": 55,
   "id": "ae7f7148",
   "metadata": {},
   "outputs": [
    {
     "data": {
      "text/plain": [
       "7"
      ]
     },
     "execution_count": 55,
     "metadata": {},
     "output_type": "execute_result"
    }
   ],
   "source": [
    "n = 322\n",
    "def sumofDigits(n:int)->int:\n",
    "    sum = 0\n",
    "    if n<0:\n",
    "        n=-n\n",
    "    for i in range(len(str(n))):\n",
    "        rem = n%10\n",
    "        sum+=rem\n",
    "        n = n//10\n",
    "    return(sum)\n",
    "sumofDigits(n)\n"
   ]
  },
  {
   "cell_type": "markdown",
   "id": "1f892ffd",
   "metadata": {},
   "source": [
    "### 40. Implement a function to check if a given string is a valid palindrome considering case sensitivity."
   ]
  },
  {
   "cell_type": "code",
   "execution_count": 56,
   "id": "cba4c488",
   "metadata": {},
   "outputs": [
    {
     "name": "stdout",
     "output_type": "stream",
     "text": [
      "False\n",
      "True\n"
     ]
    }
   ],
   "source": [
    "s=\"Malayalam\"\n",
    "p =\"malayalam\"\n",
    "def isPalindrome(s:str)->bool:\n",
    "    return s == s[::-1]\n",
    "print(isPalindrome(s))\n",
    "print(isPalindrome(p))"
   ]
  },
  {
   "cell_type": "markdown",
   "id": "5db3e78c",
   "metadata": {},
   "source": [
    "### 41. Write a Python program to find the smallest missing positive integer in a list."
   ]
  },
  {
   "cell_type": "code",
   "execution_count": 57,
   "id": "e09d8c7f",
   "metadata": {},
   "outputs": [
    {
     "data": {
      "text/plain": [
       "4"
      ]
     },
     "execution_count": 57,
     "metadata": {},
     "output_type": "execute_result"
    }
   ],
   "source": [
    "A = [2, 3, -7, 6, 8, 1, -10, 15]\n",
    "def minPositiveInt(A:list[int])->int:\n",
    "\n",
    "    m = max(A)  \n",
    "    if m < 1:\n",
    "        return 1\n",
    "    \n",
    "    if len(A) == 1:\n",
    "        return 2 if A[0] == 1 else 1\n",
    "    l = [0] * m\n",
    "    for i in range(len(A)):\n",
    "        if A[i] > 0:\n",
    "            if l[A[i] - 1] != 1:\n",
    "                l[A[i] - 1] = 1\n",
    "    for i in range(len(l)):\n",
    " \n",
    "      \n",
    "        if l[i] == 0:\n",
    "            return i + 1\n",
    "           \n",
    "    return i + 2\n",
    " \n",
    "minPositiveInt(A)"
   ]
  },
  {
   "cell_type": "markdown",
   "id": "50fb1c99",
   "metadata": {},
   "source": [
    "### 42. Implement a function to find the longest palindrome substring in a given string."
   ]
  },
  {
   "cell_type": "code",
   "execution_count": 58,
   "id": "7bee3cc9",
   "metadata": {},
   "outputs": [
    {
     "name": "stdout",
     "output_type": "stream",
     "text": [
      "mpallapm\n"
     ]
    }
   ],
   "source": [
    "s = 'dimpallapmadimpal'\n",
    "pal = \"\"\n",
    "for i in range(len(s)):\n",
    "    for j in range(i, len(s)):\n",
    "        string = s[i:j]\n",
    "        if string == string[::-1] and len(string) > len(pal):\n",
    "            pal = string\n",
    "print(pal)"
   ]
  },
  {
   "cell_type": "markdown",
   "id": "d78447e9",
   "metadata": {},
   "source": [
    "### 43. Write a program to find the number of occurrences of a given element in a list."
   ]
  },
  {
   "cell_type": "code",
   "execution_count": 60,
   "id": "a6630b16",
   "metadata": {},
   "outputs": [
    {
     "data": {
      "text/plain": [
       "{1: 4, 2: 4, 3: 3, 4: 2, 6: 1, 5: 1}"
      ]
     },
     "execution_count": 60,
     "metadata": {},
     "output_type": "execute_result"
    }
   ],
   "source": [
    "l = [1,2,1,2,3,4,4,3,2,1,6,5,3,2,1]\n",
    "def countOccurance(l:list)->dict:\n",
    "    d = dict()\n",
    "    for i in l:\n",
    "        d[i] = d.get(i,0) + 1\n",
    "    return (d)\n",
    "countOccurance(l)"
   ]
  },
  {
   "cell_type": "markdown",
   "id": "e2c9ae47",
   "metadata": {},
   "source": [
    "### 44. Implement a function to check if a given number is a perfect number."
   ]
  },
  {
   "cell_type": "code",
   "execution_count": 61,
   "id": "79a75eab",
   "metadata": {},
   "outputs": [
    {
     "data": {
      "text/plain": [
       "True"
      ]
     },
     "execution_count": 61,
     "metadata": {},
     "output_type": "execute_result"
    }
   ],
   "source": [
    "n =28\n",
    "def perfectNumber(n:int)->bool:\n",
    "    if n == 0:\n",
    "        return False\n",
    "    else:\n",
    "        sum = 0\n",
    "        for i in range(1,n):\n",
    "            if n%i == 0:\n",
    "                sum+=i\n",
    "    if n == sum:\n",
    "        return True\n",
    "    return False\n",
    "perfectNumber(n)"
   ]
  },
  {
   "cell_type": "markdown",
   "id": "b57a4825",
   "metadata": {},
   "source": [
    "### 45. Write a Python program to remove all duplicates from a string."
   ]
  },
  {
   "cell_type": "code",
   "execution_count": 63,
   "id": "c2ff405f",
   "metadata": {},
   "outputs": [
    {
     "data": {
      "text/plain": [
       "'ipamdl'"
      ]
     },
     "execution_count": 63,
     "metadata": {},
     "output_type": "execute_result"
    }
   ],
   "source": [
    "s = 'dimpallapmadimpal'\n",
    "def removeDuplicates(s:str)->str:\n",
    "    return \"\".join(set(list(s)))\n",
    "removeDuplicates(s)"
   ]
  },
  {
   "cell_type": "markdown",
   "id": "11bd9ec7",
   "metadata": {},
   "source": [
    "### 46. Implement a function to find the first missing positive"
   ]
  },
  {
   "cell_type": "code",
   "execution_count": 64,
   "id": "8ae2e39b",
   "metadata": {},
   "outputs": [
    {
     "data": {
      "text/plain": [
       "4"
      ]
     },
     "execution_count": 64,
     "metadata": {},
     "output_type": "execute_result"
    }
   ],
   "source": [
    "A = [2, 3, -7, 6, 8, 1, -10, 15]\n",
    "def firstMissingPositive(A:list[int])->int:\n",
    "    l = [x for x in A if x > 0]\n",
    "    m = max(l)\n",
    "    if m<1: return 1\n",
    "    elif len(l) == 1: return 2 if l[0] == 1 else 1\n",
    "    for i in range(1, len(l)):\n",
    "        if l[i] - l[i-1] > 1:\n",
    "            return l[i-1] + 1\n",
    "            break\n",
    "    return l[-1] + 1\n",
    "firstMissingPositive(A)"
   ]
  },
  {
   "cell_type": "code",
   "execution_count": null,
   "id": "05e6504c",
   "metadata": {},
   "outputs": [],
   "source": []
  }
 ],
 "metadata": {
  "kernelspec": {
   "display_name": "Python 3 (ipykernel)",
   "language": "python",
   "name": "python3"
  },
  "language_info": {
   "codemirror_mode": {
    "name": "ipython",
    "version": 3
   },
   "file_extension": ".py",
   "mimetype": "text/x-python",
   "name": "python",
   "nbconvert_exporter": "python",
   "pygments_lexer": "ipython3",
   "version": "3.10.9"
  }
 },
 "nbformat": 4,
 "nbformat_minor": 5
}
