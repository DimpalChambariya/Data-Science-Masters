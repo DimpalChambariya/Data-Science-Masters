{
 "cells": [
  {
   "cell_type": "markdown",
   "id": "ca12150f",
   "metadata": {},
   "source": [
    "# Assignment (Exception Handling)"
   ]
  },
  {
   "cell_type": "markdown",
   "id": "4bffd9e0",
   "metadata": {},
   "source": [
    "### Q1. What is an Exception in Python? What is the difference between Exceptions and Syntax errors."
   ]
  },
  {
   "cell_type": "markdown",
   "id": "bd2b09cf",
   "metadata": {},
   "source": [
    "An exception in Python is an error that occurs during the execution of a program. It disrupts the normal flow of instructions and needs to be handled.\n",
    "\n",
    "Syntax errors happen when there are mistakes in the structure or grammar of the code.These are detected before the program runs and prevent execution, while exceptions occur during program execution and can be handled to maintain the program's flow."
   ]
  },
  {
   "cell_type": "markdown",
   "id": "59260a17",
   "metadata": {},
   "source": [
    "### Q2. What happenes when Exception is not handled? Explain with an example."
   ]
  },
  {
   "cell_type": "markdown",
   "id": "30ac9057",
   "metadata": {},
   "source": [
    "When an exception is not handled in Python, it results in the termination of the program and an error message called a traceback is displayed. This traceback provides information about the exception that occurred, including the type of exception, the line of code where it occurred, and the sequence of function calls that led to the exception."
   ]
  },
  {
   "cell_type": "code",
   "execution_count": 4,
   "id": "3e9cd09d",
   "metadata": {},
   "outputs": [
    {
     "ename": "ZeroDivisionError",
     "evalue": "division by zero",
     "output_type": "error",
     "traceback": [
      "\u001b[1;31m---------------------------------------------------------------------------\u001b[0m",
      "\u001b[1;31mZeroDivisionError\u001b[0m                         Traceback (most recent call last)",
      "Cell \u001b[1;32mIn[4], line 3\u001b[0m\n\u001b[0;32m      1\u001b[0m a\u001b[38;5;241m=\u001b[39m\u001b[38;5;241m10\u001b[39m\n\u001b[0;32m      2\u001b[0m b\u001b[38;5;241m=\u001b[39m\u001b[38;5;241m0\u001b[39m\n\u001b[1;32m----> 3\u001b[0m \u001b[38;5;28mprint\u001b[39m(\u001b[38;5;124m\"\u001b[39m\u001b[38;5;124mdivision is \u001b[39m\u001b[38;5;124m\"\u001b[39m, \u001b[43ma\u001b[49m\u001b[38;5;241;43m/\u001b[39;49m\u001b[43mb\u001b[49m)\n",
      "\u001b[1;31mZeroDivisionError\u001b[0m: division by zero"
     ]
    }
   ],
   "source": [
    "a=10\n",
    "b=0\n",
    "print(\"division is \", a/b)"
   ]
  },
  {
   "cell_type": "markdown",
   "id": "7432e437",
   "metadata": {},
   "source": [
    "we can handle this exception using try-except block."
   ]
  },
  {
   "cell_type": "code",
   "execution_count": 3,
   "id": "d28abf31",
   "metadata": {},
   "outputs": [
    {
     "name": "stdout",
     "output_type": "stream",
     "text": [
      "division by zero\n"
     ]
    }
   ],
   "source": [
    "try:\n",
    "    a=10\n",
    "    b=0\n",
    "    print(\"division is \", a/b)\n",
    "except Exception as e:\n",
    "    print(e)"
   ]
  },
  {
   "cell_type": "markdown",
   "id": "b32f2ec8",
   "metadata": {},
   "source": [
    "### Q3.Which python statements are used to catch and handle exceptions? Explain with an example."
   ]
  },
  {
   "cell_type": "markdown",
   "id": "f2568c7b",
   "metadata": {},
   "source": [
    "The statements used to catch and handle exceptions are try, except, else, and finally."
   ]
  },
  {
   "cell_type": "code",
   "execution_count": 2,
   "id": "b293e2f2",
   "metadata": {},
   "outputs": [
    {
     "name": "stdout",
     "output_type": "stream",
     "text": [
      "enter number4\n",
      "enter second number 0\n",
      "division by zero\n",
      "execution completed!\n"
     ]
    }
   ],
   "source": [
    "try:\n",
    "    a=int(input(\"enter number\"))\n",
    "    b=int(input(\"enter second number \"))\n",
    "    print(\"division is \", a/b)\n",
    "except Exception as e:\n",
    "    print(e)\n",
    "else:\n",
    "    print(\"division successfully done!!\")\n",
    "finally:\n",
    "    print(\"execution completed!\")"
   ]
  },
  {
   "cell_type": "markdown",
   "id": "27e87cb3",
   "metadata": {},
   "source": [
    "### Q4.Explain with an example: a)try and else b)finally c)raise"
   ]
  },
  {
   "cell_type": "code",
   "execution_count": 6,
   "id": "cbb9b30b",
   "metadata": {},
   "outputs": [
    {
     "name": "stdout",
     "output_type": "stream",
     "text": [
      "enter number2\n",
      "enter second number 0\n",
      "division by zero\n",
      "execution completed!\n"
     ]
    }
   ],
   "source": [
    "try:\n",
    "    a=int(input(\"enter number\"))\n",
    "    b=int(input(\"enter second number \"))\n",
    "    print(\"division is \", a/b)\n",
    "    \n",
    "except Exception as e:\n",
    "    print(e)\n",
    "else:\n",
    "    print(\"division successfully done!!\")\n",
    "finally:\n",
    "    print(\"execution completed!\")"
   ]
  },
  {
   "cell_type": "code",
   "execution_count": 7,
   "id": "d41765e4",
   "metadata": {},
   "outputs": [
    {
     "name": "stdout",
     "output_type": "stream",
     "text": [
      "enter age-9\n",
      "age can't be negative\n"
     ]
    }
   ],
   "source": [
    "class validate(Exception):\n",
    "    def __init__(self,msg):\n",
    "        self.msg=msg\n",
    "def validate_age(age):\n",
    "    if age<0:\n",
    "        raise validate(\"age can't be negative\")\n",
    "\n",
    "try:\n",
    "    age=int(input(\"enter age\"))\n",
    "    validate_age(age)\n",
    "except validate as v:\n",
    "    print(v)"
   ]
  },
  {
   "cell_type": "markdown",
   "id": "50ae314a",
   "metadata": {},
   "source": [
    "### Q5.What are custom exception in python? Why do we need custom exceptions? Explain with example."
   ]
  },
  {
   "cell_type": "markdown",
   "id": "1f0887bc",
   "metadata": {},
   "source": [
    "Custom exceptions in Python are user-defined exception classes that are created by the programmer to handle specific types of errors or exceptional situations in their code."
   ]
  },
  {
   "cell_type": "code",
   "execution_count": 1,
   "id": "e864722c",
   "metadata": {},
   "outputs": [
    {
     "name": "stdout",
     "output_type": "stream",
     "text": [
      "enter age345\n",
      "age is too high!!\n"
     ]
    }
   ],
   "source": [
    "class validate(Exception):\n",
    "    def __init__(self,msg):\n",
    "        self.msg=msg\n",
    "def validate_age(age):\n",
    "    if age<0:\n",
    "        raise validate(\"age can't be negative\")\n",
    "    elif age>200:\n",
    "        raise validate(\"age is too high!!\")\n",
    "    else:\n",
    "        print(\"age is valid!!\")\n",
    "\n",
    "try:\n",
    "    age=int(input(\"enter age\"))\n",
    "    validate_age(age)\n",
    "except validate as v:\n",
    "    print(v)"
   ]
  },
  {
   "cell_type": "markdown",
   "id": "153272d0",
   "metadata": {},
   "source": [
    "### Q6.Create a custom exception class.Use this class to handle an exception"
   ]
  },
  {
   "cell_type": "code",
   "execution_count": 6,
   "id": "d4cb7149",
   "metadata": {},
   "outputs": [
    {
     "name": "stdout",
     "output_type": "stream",
     "text": [
      "enter age-76\n",
      "age can't be negative\n"
     ]
    }
   ],
   "source": [
    "class validate(Exception):\n",
    "    def __init__(self,msg):\n",
    "        self.msg=msg\n",
    "def validate_age(age):\n",
    "    if age<0:\n",
    "        raise validate(\"age can't be negative\")\n",
    "    elif age>200:\n",
    "        raise validate(\"age is too high!!\")\n",
    "    else:\n",
    "        print(\"age is valid!!\")\n",
    "\n",
    "try:\n",
    "    age=int(input(\"enter age\"))\n",
    "    validate_age(age)\n",
    "except validate as v:\n",
    "    print(v)"
   ]
  }
 ],
 "metadata": {
  "kernelspec": {
   "display_name": "Python 3 (ipykernel)",
   "language": "python",
   "name": "python3"
  },
  "language_info": {
   "codemirror_mode": {
    "name": "ipython",
    "version": 3
   },
   "file_extension": ".py",
   "mimetype": "text/x-python",
   "name": "python",
   "nbconvert_exporter": "python",
   "pygments_lexer": "ipython3",
   "version": "3.10.9"
  }
 },
 "nbformat": 4,
 "nbformat_minor": 5
}
