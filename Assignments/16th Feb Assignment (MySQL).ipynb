{
 "cells": [
  {
   "cell_type": "markdown",
   "id": "efac4c17",
   "metadata": {},
   "source": [
    "## Assignment 16th Feb MySQL"
   ]
  },
  {
   "cell_type": "markdown",
   "id": "64fa82e7",
   "metadata": {},
   "source": [
    "### Q1. What is a database? Differentiate between SQL and NoSQL databases."
   ]
  },
  {
   "cell_type": "markdown",
   "id": "d5b5a1bb",
   "metadata": {},
   "source": [
    "A database is a structured collection of data that is organized, stored, and managed for efficient retrieval and modification"
   ]
  },
  {
   "cell_type": "markdown",
   "id": "cddea1e9",
   "metadata": {},
   "source": [
    "SQL (Structured Query Language) and NoSQL (Not Only SQL) are two different types of database management systems that differ in their data models, query languages, and design principles."
   ]
  },
  {
   "cell_type": "markdown",
   "id": "cccce326",
   "metadata": {},
   "source": [
    "SQL databases are based on the relational model, use SQL as the query language, and are good for structured data with complex relationships and transactions.\n",
    "While NoSQL databases use various data models, prioritize scalability and flexibility, and are suitable for handling unstructured or rapidly changing data."
   ]
  },
  {
   "cell_type": "markdown",
   "id": "9b65c70a",
   "metadata": {},
   "source": [
    "### Q2. What is DDL? Explain why CREATE, DROP, ALTER, and TRUNCATE are used with an example."
   ]
  },
  {
   "cell_type": "markdown",
   "id": "96725443",
   "metadata": {},
   "source": [
    "DDL stands for Data Definition Language. It is a subset of SQL (Structured Query Language) used for defining and managing the structure of a database schema. DDL statements are used to create, modify, and delete database objects such as tables, indexes, views, and constraints."
   ]
  },
  {
   "cell_type": "markdown",
   "id": "e99efb60",
   "metadata": {},
   "source": [
    "1) CREATE: The CREATE statement is used to create new database objects. \n",
    "2) DROP: The DROP statement is used to remove an existing database object.\n",
    "3) ALTER: The ALTER statement is used to modify the structure of an existing database object. It allows you to add, modify, or delete columns, constraints, or indexes. \n",
    "4) TRUNCATE: The TRUNCATE statement is used to remove all data from a table, but it keeps the table structure intact. It is faster than deleting each row individually. "
   ]
  },
  {
   "cell_type": "markdown",
   "id": "bbc09700",
   "metadata": {},
   "source": [
    "CREATE TABLE students( ID INT PRIMARY KEY, Name VARCHAR(40), Email VARCHAR(50));\n",
    "DROP TABLE students;\n",
    "ALTER TABLE students ADD phone_no INT(8);\n",
    "TRUNCATE TABLE students;"
   ]
  },
  {
   "cell_type": "markdown",
   "id": "87785141",
   "metadata": {},
   "source": [
    "### Q3. What is DML? Explain INSERT, UPDATE, and DELETE with an example."
   ]
  },
  {
   "cell_type": "markdown",
   "id": "fbcb7360",
   "metadata": {},
   "source": [
    "DML stands for Data Manipulation Language. It is a subset of SQL (Structured Query Language) used for manipulating and managing data within a database. DML statements are used to insert, update, and delete data in database tables."
   ]
  },
  {
   "cell_type": "markdown",
   "id": "285af89d",
   "metadata": {},
   "source": [
    "1) INSERT: The INSERT statement is used to add new data into a table. It allows you to specify the columns and their corresponding values for the new row.\n",
    "2) UPDATE: The UPDATE statement is used to modify existing data in a table. It allows you to change the values of specific columns for one or more rows based on certain conditions.\n",
    "3) DELETE: The DELETE statement is used to remove data from a table. It allows you to delete one or more rows based on specified conditions."
   ]
  },
  {
   "cell_type": "markdown",
   "id": "ac6b5303",
   "metadata": {},
   "source": [
    "INSERT INTO students (ID, Name, Email) VALUES (1, 'Dimpal Chambariya', 'pateldimpal129@gmail.com');\n",
    "UPDATE students SET Email = 'pateldimpal@gmail.com' WHERE ID = 1;\n",
    "DELETE FROM students WHERE ID = 1;"
   ]
  },
  {
   "cell_type": "markdown",
   "id": "175d382e",
   "metadata": {},
   "source": [
    "### Q4. What is DQL? Explain SELECT with an example."
   ]
  },
  {
   "cell_type": "markdown",
   "id": "ddbb9b09",
   "metadata": {},
   "source": [
    "DQL stands for Data Query Language. It is a subset of SQL (Structured Query Language) used for retrieving and querying data from a database. DQL statements primarily consist of SELECT queries, which allow you to retrieve specific data from one or more tables based on specified conditions."
   ]
  },
  {
   "cell_type": "markdown",
   "id": "c3872703",
   "metadata": {},
   "source": [
    "1) SELECT: The SELECT statement is used to retrieve data from one or more tables in a database. It allows you to specify the columns you want to retrieve and apply conditions to filter the data. The SELECT statement can also perform calculations, aggregate functions, and join tables for more complex queries."
   ]
  },
  {
   "cell_type": "markdown",
   "id": "65772d4b",
   "metadata": {},
   "source": [
    "SELECT column1, column2 FROM table_name;\n",
    "SELECT Name, Salary FROM Employees WHERE Department = 'Sales';"
   ]
  },
  {
   "cell_type": "markdown",
   "id": "2475cdb3",
   "metadata": {},
   "source": [
    "### Q5. Explain Primary Key and Foreign Key."
   ]
  },
  {
   "cell_type": "markdown",
   "id": "a5620ace",
   "metadata": {},
   "source": [
    "Primary Key:\n",
    "A Primary Key is a column or a combination of columns in a table that uniquely identifies each row in the table. It provides a way to uniquely identify and distinguish one record from another. The primary key must have the following characteristics:"
   ]
  },
  {
   "cell_type": "markdown",
   "id": "8f338b38",
   "metadata": {},
   "source": [
    "Foreign Key: A Foreign Key is a column or a combination of columns in a table that establishes a link or relationship between two tables. It references the primary key of another table, creating a connection between the two tables. The foreign key enforces referential integrity and maintains consistency between related tables."
   ]
  },
  {
   "cell_type": "markdown",
   "id": "389fce8a",
   "metadata": {},
   "source": [
    "### Q6. Write a python code to connect MySQL to python. Explain the cursor() and execute() method."
   ]
  },
  {
   "cell_type": "code",
   "execution_count": null,
   "id": "155289d0",
   "metadata": {},
   "outputs": [],
   "source": [
    "import mysql.connector\n",
    "\n",
    "mydb = mysql.connector.connect(\n",
    "    host=\"localhost\",\n",
    "    user=\"abc\",\n",
    "    password=\"password\",\n",
    "    database=\"db1\"\n",
    ")\n",
    "\n",
    "cursor = mydb.cursor()\n",
    "\n",
    "query = \"SELECT * FROM students\"\n",
    "cursor.execute(query)\n",
    "\n",
    "results = cursor.fetchall()\n",
    "\n",
    "for row in results:\n",
    "    print(row)\n",
    "\n",
    "cursor.close()\n",
    "mydb.close()"
   ]
  },
  {
   "cell_type": "markdown",
   "id": "10d1210d",
   "metadata": {},
   "source": [
    "To connect MySQL to Python, use the mysql-connector-python library.\n",
    "The cursor() method creates a cursor object to interact with the database.\n",
    "The execute() method is used to execute SQL queries or statements."
   ]
  },
  {
   "cell_type": "markdown",
   "id": "1ec83c90",
   "metadata": {},
   "source": [
    "### Q7. Give the order of execution of SQL clauses in an SQL query."
   ]
  },
  {
   "cell_type": "markdown",
   "id": "dee0b122",
   "metadata": {},
   "source": [
    "The order of execution of SQL clauses in an SQL query is as follows:\n",
    "\n",
    "FROM: The FROM clause specifies the table(s) from which the data will be retrieved.\n",
    "WHERE: The WHERE clause filters the data based on specified conditions.\n",
    "GROUP BY: The GROUP BY clause groups the data based on specified columns.\n",
    "HAVING: The HAVING clause filters the grouped data based on specified conditions.\n",
    "SELECT: The SELECT clause selects the columns to be included in the result set.\n",
    "DISTINCT: The DISTINCT clause removes duplicate rows from the result set.\n",
    "ORDER BY: The ORDER BY clause sorts the result set based on specified columns.\n",
    "LIMIT: The LIMIT clause limits the number of rows returned in the result set.\n"
   ]
  },
  {
   "cell_type": "code",
   "execution_count": null,
   "id": "07fa3302",
   "metadata": {},
   "outputs": [],
   "source": []
  }
 ],
 "metadata": {
  "kernelspec": {
   "display_name": "Python 3 (ipykernel)",
   "language": "python",
   "name": "python3"
  },
  "language_info": {
   "codemirror_mode": {
    "name": "ipython",
    "version": 3
   },
   "file_extension": ".py",
   "mimetype": "text/x-python",
   "name": "python",
   "nbconvert_exporter": "python",
   "pygments_lexer": "ipython3",
   "version": "3.10.9"
  }
 },
 "nbformat": 4,
 "nbformat_minor": 5
}
