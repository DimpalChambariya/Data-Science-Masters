{
 "cells": [
  {
   "cell_type": "markdown",
   "id": "39e3b958",
   "metadata": {},
   "source": [
    "# 2nd FEB Assignment (Tuple,Set,Dict)"
   ]
  },
  {
   "cell_type": "markdown",
   "id": "32078667",
   "metadata": {},
   "source": [
    "## Q-1) What are the characteristics of the tuples? Is tuple immutable? "
   ]
  },
  {
   "cell_type": "markdown",
   "id": "5d8da96c",
   "metadata": {},
   "source": [
    "Tuple are ordered and indexed.\n",
    "Tuple also support negative indexing.\n",
    "Tuple are enclosed with paranthesis.\n",
    "Tuple can contain duplicate values.\n",
    "Tuple is immutable"
   ]
  },
  {
   "cell_type": "markdown",
   "id": "5492f2ad",
   "metadata": {},
   "source": [
    "## Q-2) What are the two tuple methods in python? Give an example of each method. Give a reason why  tuples have only two in-built methods as compared to Lists. "
   ]
  },
  {
   "cell_type": "markdown",
   "id": "09aa7b1d",
   "metadata": {},
   "source": [
    "Tuple's two methods are:\n",
    "1)count\n",
    "2)index\n",
    "Example : Count method gives an occurance of particular value\n",
    "and index method gives at which index a particular value is located."
   ]
  },
  {
   "cell_type": "code",
   "execution_count": 1,
   "id": "1ad5d927",
   "metadata": {},
   "outputs": [
    {
     "name": "stdout",
     "output_type": "stream",
     "text": [
      "2\n",
      "4\n"
     ]
    }
   ],
   "source": [
    "t1=(2,3,4,4)\n",
    "print(t1.count(4)) #count\n",
    "print(t1[2])  #index"
   ]
  },
  {
   "cell_type": "markdown",
   "id": "398434c3",
   "metadata": {},
   "source": [
    "Tuple is inmutable in nature.This is why once a tuple is created we can't modify it. Whereas list is mutuble.so we can modify and do changes in that. This is the reason that tuple has only two built in methods as campared to lists."
   ]
  },
  {
   "cell_type": "markdown",
   "id": "96cb2c30",
   "metadata": {},
   "source": [
    "## Q-3) Which collection datatypes in python do not allow duplicate items? Write a code using a set to remove  duplicates from the given list. \n",
    "\n",
    "List = [1, 1, 1, 2, 1, 3, 1, 4, 2, 1, 2, 2, 2, 3, 2, 4, 3, 1, 3, 2, 3, 3, 3, 4, 4, 1, 4, 2, 4, 3, 4, 4] \n"
   ]
  },
  {
   "cell_type": "markdown",
   "id": "f4330c4b",
   "metadata": {},
   "source": [
    "Set in python do not allow duplicate items."
   ]
  },
  {
   "cell_type": "code",
   "execution_count": 2,
   "id": "3b06fe2f",
   "metadata": {},
   "outputs": [
    {
     "data": {
      "text/plain": [
       "[1, 2, 3, 4]"
      ]
     },
     "execution_count": 2,
     "metadata": {},
     "output_type": "execute_result"
    }
   ],
   "source": [
    "list1 = [1, 1, 1, 2, 1, 3, 1, 4, 2, 1, 2, 2, 2, 3, 2, 4, 3, 1, 3, 2, 3, 3, 3, 4, 4, 1, 4, 2, 4, 3, 4, 4]\n",
    "s=set(list1)\n",
    "list(s)"
   ]
  },
  {
   "cell_type": "markdown",
   "id": "40f6e46a",
   "metadata": {},
   "source": [
    "## Q-4)Explain the difference between the union() and update() methods for a set. Give an example of each method."
   ]
  },
  {
   "cell_type": "markdown",
   "id": "ed5e6df0",
   "metadata": {},
   "source": [
    "union() method returns the union of a sets.This method takes arbitrary number of arguments and arguments can be one or more iterable like string,list,set. update() method also gives the union of sets.\n",
    "BUT the difference is union() method create and return a new set of elements present in all iterables whereas update() method updates the set on which this method is called."
   ]
  },
  {
   "cell_type": "code",
   "execution_count": 38,
   "id": "9cb8cb89",
   "metadata": {},
   "outputs": [
    {
     "name": "stdout",
     "output_type": "stream",
     "text": [
      "{1, 2, 3, 4, 5, 6, 7, 9}\n",
      "{1, 2, 3, 4, 5, 6, 7}\n",
      "{1, 2, 3, 4, 5, 6, 7, 9}\n"
     ]
    }
   ],
   "source": [
    "s={2,3,4,1,5,6,7}\n",
    "t={1,9,3,4,5}\n",
    "print(s.union(t)) #union\n",
    "print(s)\n",
    "s.update(t) #update\n",
    "print(s)"
   ]
  },
  {
   "cell_type": "markdown",
   "id": "4abb0c72",
   "metadata": {},
   "source": [
    "## Q-5) What is a dictionary? Give an example. Also, state whether a dictionary is ordered or unordered."
   ]
  },
  {
   "cell_type": "markdown",
   "id": "55edb005",
   "metadata": {},
   "source": [
    "Dictionary is a collection of key value pair.\n",
    "It is used to store data in the form of key:value.\n",
    "Dictionary can be created by {} (curly braces). \n",
    "Inside that we will write each key value pair separated by comma."
   ]
  },
  {
   "cell_type": "code",
   "execution_count": 42,
   "id": "9ab5b0f7",
   "metadata": {},
   "outputs": [
    {
     "name": "stdout",
     "output_type": "stream",
     "text": [
      "{'name': 'Dimpal', 'Enr-no': 14, 'ae': 'a'}\n"
     ]
    }
   ],
   "source": [
    "dict1={\"name\":\"Dimpal\",\"Enr-no\":14}\n",
    "print(dict1)"
   ]
  },
  {
   "cell_type": "markdown",
   "id": "a22ec678",
   "metadata": {},
   "source": [
    "Dictionaries are orderd."
   ]
  },
  {
   "cell_type": "markdown",
   "id": "0d93e1b7",
   "metadata": {},
   "source": [
    "## Q-6) Can we create a nested dictionary? If so, please give an example by creating a simple one-level nested dictionary."
   ]
  },
  {
   "cell_type": "markdown",
   "id": "d2992c46",
   "metadata": {},
   "source": [
    "Yes!! We can create a nested dictionary."
   ]
  },
  {
   "cell_type": "code",
   "execution_count": 46,
   "id": "3553865c",
   "metadata": {},
   "outputs": [
    {
     "data": {
      "text/plain": [
       "{'Intro': {'name': 'Dimpal', 'age': 21}, 'university': 'cvmu'}"
      ]
     },
     "execution_count": 46,
     "metadata": {},
     "output_type": "execute_result"
    }
   ],
   "source": [
    "dict1={\"Intro\":{\"name\":\"Dimpal\",\"age\":21},\"university\":\"cvmu\"}\n",
    "dict1"
   ]
  },
  {
   "cell_type": "markdown",
   "id": "4c931c7a",
   "metadata": {},
   "source": [
    "## Q-7) Using setdefault() method, create key named topics in the given dictionary and also add the value of the key as this list ['Python', 'Machine Learning’, 'Deep Learning']\n",
    "## dict1 = {'language' : 'Python', 'course': 'Data Science Masters'}"
   ]
  },
  {
   "cell_type": "code",
   "execution_count": 53,
   "id": "452cbfcb",
   "metadata": {},
   "outputs": [
    {
     "name": "stdout",
     "output_type": "stream",
     "text": [
      "{'language': 'Python', 'course': 'Data Science Masters', 'topic': ['Python', 'Machine Learning', 'Deep Learning']}\n"
     ]
    }
   ],
   "source": [
    "dict1={'language':'Python','course':'Data Science Masters'}\n",
    "dict1.setdefault('topic',['Python','Machine Learning','Deep Learning'])\n",
    "print(dict1)"
   ]
  },
  {
   "cell_type": "markdown",
   "id": "14af5571",
   "metadata": {},
   "source": [
    "## Q-8) What are the three view objects in dictionaries? Use the three in-built methods in python to display these three view objects for the given dictionary.\n",
    "## dict1 = {'Sport': 'Cricket' , 'Teams': ['India', 'Australia', 'England', 'South Africa', 'Sri Lanka', 'New Zealand']}"
   ]
  },
  {
   "cell_type": "markdown",
   "id": "bf4eee54",
   "metadata": {},
   "source": [
    "1) keys()\n",
    "2) values()\n",
    "3) items()"
   ]
  },
  {
   "cell_type": "code",
   "execution_count": 70,
   "id": "a2d4ff71",
   "metadata": {},
   "outputs": [
    {
     "name": "stdout",
     "output_type": "stream",
     "text": [
      "dict_keys(['Sport', 'Teams'])\n",
      "Teams\n",
      "2nd key Teams\n",
      "dict_values(['Cricket', ['India', 'Australia', 'England', 'South Africa', 'Sri Lanka', 'New Zealand']])\n",
      "dict_items([('Sport', 'Cricket'), ('Teams', ['India', 'Australia', 'England', 'South Africa', 'Sri Lanka', 'New Zealand'])])\n"
     ]
    }
   ],
   "source": [
    "dict1 = {'Sport': 'Cricket' , 'Teams': ['India', 'Australia', 'England', 'South Africa', 'Sri Lanka', 'New Zealand']}\n",
    "#for keys()\n",
    "# 1 method \n",
    "print(dict1.keys())\n",
    "# 2 method\n",
    "print(list(dict1.keys())[1])\n",
    "# 3 method\n",
    "j=0\n",
    "for i in dict1:\n",
    "    if(j==1):\n",
    "        print('2nd key',i)\n",
    "    j=j+1\n",
    "# values\n",
    "print(dict1.values())\n",
    "# items\n",
    "print(dict1.items())"
   ]
  },
  {
   "cell_type": "code",
   "execution_count": null,
   "id": "39bd0082",
   "metadata": {},
   "outputs": [],
   "source": []
  }
 ],
 "metadata": {
  "kernelspec": {
   "display_name": "Python 3 (ipykernel)",
   "language": "python",
   "name": "python3"
  },
  "language_info": {
   "codemirror_mode": {
    "name": "ipython",
    "version": 3
   },
   "file_extension": ".py",
   "mimetype": "text/x-python",
   "name": "python",
   "nbconvert_exporter": "python",
   "pygments_lexer": "ipython3",
   "version": "3.9.13"
  }
 },
 "nbformat": 4,
 "nbformat_minor": 5
}
