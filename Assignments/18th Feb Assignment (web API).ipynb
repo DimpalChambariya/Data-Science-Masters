{
 "cells": [
  {
   "cell_type": "markdown",
   "id": "7f8813fa",
   "metadata": {},
   "source": [
    "## 18th Feb Assignment (Web API)"
   ]
  },
  {
   "cell_type": "markdown",
   "id": "22041991",
   "metadata": {},
   "source": [
    "### Q1. What is an API? Give an example, where an API is used in real life."
   ]
  },
  {
   "cell_type": "markdown",
   "id": "18a10cf0",
   "metadata": {},
   "source": [
    "API stands for Application Programming Interface. It is a set of rules and protocols that allows different software applications to communicate and interact with each other. APIs define the methods, data formats, and authentication mechanisms that enable seamless integration and interaction between various software systems.\n",
    "\n",
    "An example of API usage in real life is in social media platforms. For instance, the Twitter API allows developers to access and interact with Twitter's platform programmatically. This API enables developers to retrieve tweets, post tweets, perform searches, access user profiles, and perform various other actions on the Twitter platform. By using the Twitter API, developers can integrate Twitter functionality into their own applications or create tools that interact with Twitter's services. This integration allows users to view and post tweets, access their timelines, and interact with Twitter's features through third-party applications or services."
   ]
  },
  {
   "cell_type": "markdown",
   "id": "84b89623",
   "metadata": {},
   "source": [
    "### Q2. Give advantages and disadvantages of using API."
   ]
  },
  {
   "cell_type": "markdown",
   "id": "afd5ad87",
   "metadata": {},
   "source": [
    "Advantages of using APIs:\n",
    "\n",
    "Increased efficiency and streamlined communication between systems.\n",
    "\n",
    "Access to pre-built functionalities and services.\n",
    "\n",
    "Scalability and flexibility in resource utilization.\n",
    "\n",
    "Collaboration and innovation through standardized integration.\n",
    "\n",
    "Integration with third-party services for extended functionality.\n",
    "\n",
    "\n",
    "\n",
    "\n",
    "Disadvantages of using APIs:\n",
    "\n",
    "Dependency on external systems' stability and performance.\n",
    "\n",
    "Potential security vulnerabilities if not properly implemented.\n",
    "\n",
    "Compatibility challenges with API changes and versioning.\n",
    "\n",
    "Limited control over underlying systems or services.\n",
    "\n",
    "Learning curve and reliance on API documentation for implementation."
   ]
  },
  {
   "cell_type": "markdown",
   "id": "24c24f8d",
   "metadata": {},
   "source": [
    "### Q3. What is a Web API? Differentiate between API and Web API."
   ]
  },
  {
   "cell_type": "markdown",
   "id": "dd046111",
   "metadata": {},
   "source": [
    "API:\n",
    "\n",
    "General term for a set of rules and protocols allowing software applications to communicate and interact.\n",
    "Used in various contexts, including web services, libraries, operating systems, databases, etc.\n",
    "Can use different communication protocols.\n",
    "\n",
    "\n",
    "Web API:\n",
    "\n",
    "Specifically designed for web-based applications and services.\n",
    "Uses HTTP as the communication protocol and follows web standards.\n",
    "Enables communication and interaction between web applications or services.\n",
    "Exposes endpoints (URLs) for requesting and exchanging data using formats like JSON or XML."
   ]
  },
  {
   "cell_type": "markdown",
   "id": "713d9ac8",
   "metadata": {},
   "source": [
    "### Q4. Explain REST and SOAP Architecture. Mention shortcomings of SOAP."
   ]
  },
  {
   "cell_type": "markdown",
   "id": "1881cb47",
   "metadata": {},
   "source": [
    "REST:\n",
    "\n",
    "REST is an architectural style for web services.\n",
    "It uses HTTP and is lightweight and scalable.\n",
    "RESTful APIs are simple, flexible, and easy to integrate.\n",
    "They work well for web and mobile applications.\n",
    "REST relies on URLs and supports JSON or XML for data exchange.\n",
    "\n",
    "\n",
    "SOAP:\n",
    "\n",
    "SOAP is a protocol for structured information exchange in web services.\n",
    "It uses XML and has extensive standards and protocols.\n",
    "SOAP is complex, slower, and less flexible compared to REST.\n",
    "It offers strong security and reliability features.\n",
    "SOAP can be challenging to implement and may have scalability limitations.\n",
    "\n",
    "\n",
    "Shortcomings of SOAP:\n",
    "\n",
    "Complexity: SOAP is more complex to implement and maintain.\n",
    "Performance: SOAP can be slower due to XML parsing and overhead.\n",
    "Scalability: SOAP's stateful interactions can limit scalability.\n",
    "Lack of Flexibility: SOAP's strict standards can limit adaptability.\n",
    "Compatibility: SOAP requires more infrastructure and may not suit lightweight environments."
   ]
  },
  {
   "cell_type": "markdown",
   "id": "84652d29",
   "metadata": {},
   "source": [
    "### Q5. Differentiate between REST and SOAP."
   ]
  },
  {
   "cell_type": "markdown",
   "id": "59bdd1e3",
   "metadata": {},
   "source": [
    "REST:\n",
    "\n",
    "Uses HTTP and simple methods like GET, POST, PUT, DELETE.\n",
    "Lightweight data formats like JSON or XML.\n",
    "Easy to use, scalable, and flexible.\n",
    "Suitable for distributed systems and cloud architectures.\n",
    "\n",
    "SOAP:\n",
    "\n",
    "Protocol-agnostic with XML as the standard format.\n",
    "More complex and requires specialized tooling.\n",
    "Less scalable and more rigid.\n",
    "Supports extensive standards and enterprise-level scenarios."
   ]
  },
  {
   "cell_type": "code",
   "execution_count": null,
   "id": "d10221eb",
   "metadata": {},
   "outputs": [],
   "source": []
  }
 ],
 "metadata": {
  "kernelspec": {
   "display_name": "Python 3 (ipykernel)",
   "language": "python",
   "name": "python3"
  },
  "language_info": {
   "codemirror_mode": {
    "name": "ipython",
    "version": 3
   },
   "file_extension": ".py",
   "mimetype": "text/x-python",
   "name": "python",
   "nbconvert_exporter": "python",
   "pygments_lexer": "ipython3",
   "version": "3.10.9"
  }
 },
 "nbformat": 4,
 "nbformat_minor": 5
}
