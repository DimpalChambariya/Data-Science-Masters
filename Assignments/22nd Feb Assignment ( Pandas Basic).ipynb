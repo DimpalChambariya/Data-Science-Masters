{
 "cells": [
  {
   "cell_type": "markdown",
   "id": "89133ded",
   "metadata": {},
   "source": [
    "# Assignment (Pandas Basic)"
   ]
  },
  {
   "cell_type": "markdown",
   "id": "ee906bcf",
   "metadata": {},
   "source": [
    "### Q1. Create a Pandas Series that contains the following data: 4, 8, 15, 16, 23, and 42. Then, print the series."
   ]
  },
  {
   "cell_type": "code",
   "execution_count": 3,
   "id": "167dc34b",
   "metadata": {},
   "outputs": [
    {
     "name": "stdout",
     "output_type": "stream",
     "text": [
      "0     4\n",
      "1     8\n",
      "2    15\n",
      "3    16\n",
      "4    23\n",
      "5    42\n",
      "dtype: int64\n"
     ]
    }
   ],
   "source": [
    "import numpy as np\n",
    "import pandas as pd \n",
    "data=([4,8,15,16,23,42])\n",
    "ser=pd.Series(data)\n",
    "print(ser)"
   ]
  },
  {
   "cell_type": "markdown",
   "id": "38ccd410",
   "metadata": {},
   "source": [
    "### Q2. Create a variable of list type containing 10 elements in it, and apply pandas.Series function on the variable print it."
   ]
  },
  {
   "cell_type": "code",
   "execution_count": 5,
   "id": "77e57728",
   "metadata": {},
   "outputs": [
    {
     "name": "stdout",
     "output_type": "stream",
     "text": [
      "0          1\n",
      "1          2\n",
      "2          3\n",
      "3     dimpal\n",
      "4          5\n",
      "5          6\n",
      "6         hi\n",
      "7          7\n",
      "8          7\n",
      "9          8\n",
      "10         9\n",
      "dtype: object\n"
     ]
    }
   ],
   "source": [
    "data=[1,2,3,\"dimpal\",5,6,\"hi\",\"7\",7,8,9]\n",
    "ser1=pd.Series(data)\n",
    "print(ser1)"
   ]
  },
  {
   "cell_type": "markdown",
   "id": "9dfca339",
   "metadata": {},
   "source": [
    "### Q3. Create a Pandas DataFrame that contains the following data: Then, print the DataFrame."
   ]
  },
  {
   "cell_type": "code",
   "execution_count": 19,
   "id": "092e3261",
   "metadata": {},
   "outputs": [
    {
     "name": "stdout",
     "output_type": "stream",
     "text": [
      "     Name  Age  Gender\n",
      "0   Alice   25  Female\n",
      "1     Bob   30    Male\n",
      "2  Claire   27  Female\n"
     ]
    }
   ],
   "source": [
    "data=[[\"Alice\",25,\"Female\"],[\"Bob\",30,\"Male\"],[\"Claire\",27,\"Female\"]]\n",
    "df=pd.DataFrame(data,columns=['Name','Age','Gender'])\n",
    "print(df)"
   ]
  },
  {
   "cell_type": "markdown",
   "id": "8b9c33fd",
   "metadata": {},
   "source": [
    "### Q4. What is ‘DataFrame’ in pandas and how is it different from pandas.series? Explain with an example."
   ]
  },
  {
   "cell_type": "markdown",
   "id": "bb9e2db2",
   "metadata": {},
   "source": [
    "DataFrame in python is just like a table.It is a two dimensional or we can say two dimensional array.\n",
    "whereas series is one dimensional.\n",
    "In dataframe we can have multiple columns but in series we only have one column containing different data types."
   ]
  },
  {
   "cell_type": "markdown",
   "id": "2fc39cc8",
   "metadata": {},
   "source": [
    "For example,"
   ]
  },
  {
   "cell_type": "code",
   "execution_count": 23,
   "id": "38c1fbc8",
   "metadata": {},
   "outputs": [
    {
     "name": "stdout",
     "output_type": "stream",
     "text": [
      "     Name  Age  Gender\n",
      "0   Alice   25  Female\n",
      "1     Bob   30    Male\n",
      "2  Claire   27  Female\n"
     ]
    }
   ],
   "source": [
    "data=[[\"Dinesh\",\"pass\"],[\"Ramesh\",\"fail\"],[\"Ram\",\"pass\"]]\n",
    "df1=pd.DataFrame(data,columns=['Name','Result'])\n",
    "print(df)"
   ]
  },
  {
   "cell_type": "code",
   "execution_count": 25,
   "id": "2897cd7a",
   "metadata": {},
   "outputs": [
    {
     "data": {
      "text/plain": [
       "pandas.core.frame.DataFrame"
      ]
     },
     "execution_count": 25,
     "metadata": {},
     "output_type": "execute_result"
    }
   ],
   "source": [
    "type(df1)"
   ]
  },
  {
   "cell_type": "code",
   "execution_count": 27,
   "id": "1b1443b0",
   "metadata": {},
   "outputs": [
    {
     "data": {
      "text/plain": [
       "pandas.core.series.Series"
      ]
     },
     "execution_count": 27,
     "metadata": {},
     "output_type": "execute_result"
    }
   ],
   "source": [
    "df1['Name']\n",
    "type(df1['Name'])"
   ]
  },
  {
   "cell_type": "markdown",
   "id": "ac2db6fd",
   "metadata": {},
   "source": [
    "### Q5. What are some common functions you can use to manipulate data in a Pandas DataFrame? Can you give an example of when you might use one of these functions? "
   ]
  },
  {
   "cell_type": "markdown",
   "id": "2c18d2ff",
   "metadata": {},
   "source": [
    "There are some function like sort_values, dropna, fillna etc. \n",
    "We can use this function when our data is too noisy or some missing values are in there then we use this to make our data more informative and less redundant."
   ]
  },
  {
   "cell_type": "markdown",
   "id": "8adfeb41",
   "metadata": {},
   "source": [
    "### Q6. Which of the following is mutable in nature Series, DataFrame, Panel?"
   ]
  },
  {
   "cell_type": "markdown",
   "id": "708fd752",
   "metadata": {},
   "source": [
    "All three are mutable in nature."
   ]
  },
  {
   "cell_type": "markdown",
   "id": "f01d6651",
   "metadata": {},
   "source": [
    "### Q7. Create a DataFrame using multiple Series. Explain with an example."
   ]
  },
  {
   "cell_type": "code",
   "execution_count": 47,
   "id": "ca746265",
   "metadata": {},
   "outputs": [
    {
     "name": "stdout",
     "output_type": "stream",
     "text": [
      "   enr_no name result\n",
      "0       1  ram   pass\n",
      "1       2  sam   pass\n",
      "2       3  het   fail\n",
      "3       4  hit   pass\n",
      "4       5  ret   pass\n"
     ]
    }
   ],
   "source": [
    "enr_no=pd.Series([1,2,3,4,5],name=\"enr_no\")\n",
    "name=pd.Series([\"ram\",\"sam\",\"het\",\"hit\",\"ret\"],name=\"name\")\n",
    "result=pd.Series([\"pass\",\"pass\",\"fail\",\"pass\",\"pass\"],name=\"result\")\n",
    "df3=pd.concat([enr_no,name,result],axis=1)\n",
    "print(df3)"
   ]
  }
 ],
 "metadata": {
  "kernelspec": {
   "display_name": "Python 3 (ipykernel)",
   "language": "python",
   "name": "python3"
  },
  "language_info": {
   "codemirror_mode": {
    "name": "ipython",
    "version": 3
   },
   "file_extension": ".py",
   "mimetype": "text/x-python",
   "name": "python",
   "nbconvert_exporter": "python",
   "pygments_lexer": "ipython3",
   "version": "3.9.13"
  }
 },
 "nbformat": 4,
 "nbformat_minor": 5
}
