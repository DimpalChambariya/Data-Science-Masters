{
 "cells": [
  {
   "cell_type": "markdown",
   "id": "85b6e1b8",
   "metadata": {},
   "source": [
    "## 14th Feb Assignment (Multi Threading) "
   ]
  },
  {
   "cell_type": "markdown",
   "id": "f13b6b32",
   "metadata": {},
   "source": [
    "### Q1.What is multithreading in python? why is it used? Name the module used to handle threads in python"
   ]
  },
  {
   "cell_type": "markdown",
   "id": "6892034c",
   "metadata": {},
   "source": [
    "Multithreading in Python allows you to run multiple threads of execution simultaneously within a single process. It is used for concurrent execution of tasks, improving responsiveness, and potential parallelism. \n",
    "\n",
    "The threading module is used to handle threads in Python. It provides a high-level interface for creating, starting, stopping, and synchronizing threads."
   ]
  },
  {
   "cell_type": "markdown",
   "id": "b718a333",
   "metadata": {},
   "source": [
    "### Q2. Why threading module used? write the use of the following functions: 1) activeCount 2) currentThread 3) enumerate"
   ]
  },
  {
   "cell_type": "markdown",
   "id": "eded776c",
   "metadata": {},
   "source": [
    "activeCount() function retrieves the count of active threads, currentThread() provides access to the current thread object, and enumerate() returns a list of all active threads for further processing or inspection."
   ]
  },
  {
   "cell_type": "markdown",
   "id": "9b1c99de",
   "metadata": {},
   "source": [
    "### Q3. Explain the following functions: 1) run 2) start 3) join 4) isAlive"
   ]
  },
  {
   "cell_type": "markdown",
   "id": "05c38eba",
   "metadata": {},
   "source": [
    "1) run(): The run() function is not directly called by the user. Instead, it is the method that you override in a custom thread class.\n",
    "By subclassing the Thread class and overriding the run() method, you can define the specific actions or operations that the thread should perform.\n",
    "When you start a thread using the start() method, it automatically calls the run() method of that thread class.\n",
    "\n",
    "\n",
    "2) start(): The start() function is used to begin the execution of a thread.\n",
    "When you call start() on a thread object, it initiates the execution of the run() method in that thread.\n",
    "It starts a new thread of execution, allowing it to run concurrently with other threads in the program.\n",
    "Note that calling run() directly on a thread object will execute the \n",
    "\n",
    "3) join(): The join() function is used to wait for a thread to complete its execution.\n",
    "When you call join() on a thread object, the calling thread will be blocked until the thread being joined has finished executing.\n",
    "It ensures that the main thread (or any other thread) waits for the completion of the specified thread before proceeding further.\n",
    "By using join(), you can synchronize the execution of multiple threads and ensure that certain operations are completed before moving on.\n",
    "\n",
    "4) isAlive(): The isAlive() function is used to check if a thread is currently running or alive.\n",
    "When called on a thread object, it returns a boolean value (True or False) indicating whether the thread is still active.\n",
    "It is useful when you need to check the status of a thread and make decisions or perform actions based on whether the thread is running or has completed."
   ]
  },
  {
   "cell_type": "markdown",
   "id": "c56f3954",
   "metadata": {},
   "source": [
    "### Q4. Write a python program to create two threads. Thread one must print the list of squares and thread two must print the list of cubes"
   ]
  },
  {
   "cell_type": "code",
   "execution_count": 17,
   "id": "3caa07f6",
   "metadata": {},
   "outputs": [],
   "source": [
    "import threading\n",
    "def test(x):\n",
    "    print(x*x)\n",
    "    \n",
    "def test1(x):\n",
    "    print(x*x*x)\n"
   ]
  },
  {
   "cell_type": "code",
   "execution_count": 32,
   "id": "b3a1044b",
   "metadata": {},
   "outputs": [],
   "source": [
    "thread3=[threading.Thread(target=test, args=(i,)) for i in [1,2,3] ]\n",
    "thread4=[threading.Thread(target=test1, args=(i,)) for i in [1,2,3] ]"
   ]
  },
  {
   "cell_type": "code",
   "execution_count": 34,
   "id": "410f56f2",
   "metadata": {},
   "outputs": [
    {
     "name": "stdout",
     "output_type": "stream",
     "text": [
      "1\n",
      "4\n",
      "9\n"
     ]
    }
   ],
   "source": [
    "for t in thread3:\n",
    "    t.start()"
   ]
  },
  {
   "cell_type": "code",
   "execution_count": 35,
   "id": "9c8bc46d",
   "metadata": {},
   "outputs": [
    {
     "name": "stdout",
     "output_type": "stream",
     "text": [
      "1\n",
      "8\n",
      "27\n"
     ]
    }
   ],
   "source": [
    "for t in thread4:\n",
    "    t.start()"
   ]
  },
  {
   "cell_type": "markdown",
   "id": "df3cfada",
   "metadata": {},
   "source": [
    "### Q5. State advantages and disadvantages of multithreading"
   ]
  },
  {
   "cell_type": "markdown",
   "id": "5bb6d4f6",
   "metadata": {},
   "source": [
    "Advantages of multithreading:\n",
    "\n",
    "Concurrency: Simultaneous execution of tasks for increased efficiency.\n",
    "\n",
    "Resource sharing: Threads can easily share data and resources.\n",
    "\n",
    "Responsiveness: Improved application responsiveness by separating time-consuming tasks.\n",
    "\n",
    "Efficient resource utilization: Optimal use of system resources, especially during I/O waits.\n",
    "\n",
    "Disadvantages of multithreading:\n",
    "\n",
    "Complexity: Introduction of complexities like race conditions and synchronization issues.\n",
    "\n",
    "Increased overhead: Additional memory and CPU usage.\n",
    "\n",
    "Difficult debugging: Challenges in identifying and resolving concurrency-related bugs.\n",
    "\n",
    "Limited scalability: The Global Interpreter Lock (GIL) in Python restricts true parallel execution."
   ]
  },
  {
   "cell_type": "markdown",
   "id": "b678aab1",
   "metadata": {},
   "source": [
    "### Q6. Explain deadlocks and race conditions."
   ]
  },
  {
   "cell_type": "markdown",
   "id": "b926eef9",
   "metadata": {},
   "source": [
    "Deadlock:\n",
    "\n",
    "Deadlock is a situation where two or more threads or processes are unable to proceed because each is waiting for the other to release a resource or take a specific action.\n",
    "In a deadlock, the threads/processes are stuck in a circular dependency, preventing any progress and leading to a system halt or unresponsiveness.\n",
    "Deadlocks usually occur when threads/processes compete for exclusive access to shared resources and don't properly release them or when the synchronization mechanism is not properly implemented.\n",
    "Deadlock prevention, avoidance, and detection strategies are employed to mitigate the occurrence of deadlocks in concurrent systems.\n",
    "\n",
    "Race condition:\n",
    "\n",
    "A race condition occurs when the behavior of a program depends on the relative timing or interleaving of multiple threads or processes accessing shared resources or performing operations.\n",
    "Race conditions typically arise when multiple threads/processes access and manipulate shared data concurrently without proper synchronization.\n",
    "The outcome of a race condition is unpredictable and can lead to incorrect results, data corruption, or program crashes.\n",
    "Race conditions can be challenging to identify and reproduce as they depend on the specific timing and scheduling of threads/processes.\n",
    "Proper synchronization techniques, such as locks, semaphores, or other thread-safe constructs, are used to prevent or resolve race conditions."
   ]
  },
  {
   "cell_type": "code",
   "execution_count": null,
   "id": "e3c4de36",
   "metadata": {},
   "outputs": [],
   "source": []
  }
 ],
 "metadata": {
  "kernelspec": {
   "display_name": "Python 3 (ipykernel)",
   "language": "python",
   "name": "python3"
  },
  "language_info": {
   "codemirror_mode": {
    "name": "ipython",
    "version": 3
   },
   "file_extension": ".py",
   "mimetype": "text/x-python",
   "name": "python",
   "nbconvert_exporter": "python",
   "pygments_lexer": "ipython3",
   "version": "3.10.9"
  }
 },
 "nbformat": 4,
 "nbformat_minor": 5
}
